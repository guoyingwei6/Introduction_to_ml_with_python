{
 "cells": [
  {
   "cell_type": "code",
   "execution_count": 1,
   "id": "7813c03f",
   "metadata": {
    "ExecuteTime": {
     "end_time": "2023-03-19T13:58:37.181873Z",
     "start_time": "2023-03-19T13:58:32.208538Z"
    }
   },
   "outputs": [],
   "source": [
    "import numpy as np\n",
    "import pandas as pd\n",
    "from sklearn.model_selection import train_test_split \n",
    "from sklearn.metrics import accuracy_score \n",
    "from sklearn.metrics import confusion_matrix \n",
    "from sklearn.feature_selection import RFE \n",
    "from sklearn.ensemble import RandomForestClassifier\n",
    "from sklearn.impute import KNNImputer\n",
    "from sklearn.feature_selection import SelectPercentile "
   ]
  },
  {
   "cell_type": "code",
   "execution_count": 2,
   "id": "9dffc8d4",
   "metadata": {
    "ExecuteTime": {
     "end_time": "2023-03-19T14:00:34.328419Z",
     "start_time": "2023-03-19T13:58:40.651246Z"
    }
   },
   "outputs": [],
   "source": [
    "# 读取数据\n",
    "ori_df = pd.read_table('data_for_ml_after_filter', header = None, sep=' ', dtype = 'str')"
   ]
  },
  {
   "cell_type": "code",
   "execution_count": 3,
   "id": "4cd00bdf",
   "metadata": {
    "ExecuteTime": {
     "end_time": "2023-03-19T14:00:50.370716Z",
     "start_time": "2023-03-19T14:00:49.981238Z"
    }
   },
   "outputs": [],
   "source": [
    "# replace nan str to np.nan\n",
    "replace_df = ori_df.replace('nan', np.nan)"
   ]
  },
  {
   "cell_type": "code",
   "execution_count": 4,
   "id": "cd302de0",
   "metadata": {
    "ExecuteTime": {
     "end_time": "2023-03-19T14:00:51.639737Z",
     "start_time": "2023-03-19T14:00:51.630041Z"
    }
   },
   "outputs": [],
   "source": [
    "# 分特征和标签\n",
    "all_features = replace_df.iloc[:, 1:].values\n",
    "all_labels = replace_df.iloc[:, :1].values.ravel()"
   ]
  },
  {
   "cell_type": "code",
   "execution_count": 5,
   "id": "8a5e212c",
   "metadata": {
    "ExecuteTime": {
     "end_time": "2023-03-19T14:01:42.725059Z",
     "start_time": "2023-03-19T14:00:54.212468Z"
    }
   },
   "outputs": [],
   "source": [
    "# impute缺失值\n",
    "imputer = KNNImputer(n_neighbors=5, weights=\"uniform\")\n",
    "all_features_imputed_df=imputer.fit_transform(all_features)"
   ]
  },
  {
   "cell_type": "code",
   "execution_count": 6,
   "id": "283de2ed",
   "metadata": {
    "ExecuteTime": {
     "end_time": "2023-03-19T14:02:07.827594Z",
     "start_time": "2023-03-19T14:02:07.609848Z"
    }
   },
   "outputs": [],
   "source": [
    "# 数据分割\n",
    "from sklearn.model_selection import train_test_split \n",
    "X_train, X_test, y_train, y_test = train_test_split( \n",
    "    all_features_imputed_df, all_labels, random_state=1, test_size=0.2)"
   ]
  },
  {
   "cell_type": "code",
   "execution_count": 7,
   "id": "56278700",
   "metadata": {
    "ExecuteTime": {
     "end_time": "2023-03-19T14:02:10.913246Z",
     "start_time": "2023-03-19T14:02:10.608840Z"
    }
   },
   "outputs": [
    {
     "data": {
      "text/plain": [
       "SelectPercentile(percentile=1)"
      ]
     },
     "execution_count": 7,
     "metadata": {},
     "output_type": "execute_result"
    }
   ],
   "source": [
    "# 使用f_classif（默认值）和SelectPercentile来选择1%的特征 \n",
    "select = SelectPercentile(percentile=1) \n",
    "select.fit(X_train, y_train) "
   ]
  },
  {
   "cell_type": "code",
   "execution_count": 8,
   "id": "9042a2d1",
   "metadata": {
    "ExecuteTime": {
     "end_time": "2023-03-19T14:02:20.374503Z",
     "start_time": "2023-03-19T14:02:20.327865Z"
    }
   },
   "outputs": [
    {
     "name": "stdout",
     "output_type": "stream",
     "text": [
      "X_train.shape: (182, 117382)\n",
      "X_train_selected.shape: (182, 1174)\n",
      "X_test_selected.shape: (46, 1174)\n"
     ]
    }
   ],
   "source": [
    "# 对训练集进行变换 \n",
    "X_train_selected = select.transform(X_train) \n",
    "X_test_selected = select.transform(X_test) \n",
    " \n",
    "print(\"X_train.shape: {}\".format(X_train.shape)) \n",
    "print(\"X_train_selected.shape: {}\".format(X_train_selected.shape))\n",
    "print(\"X_test_selected.shape: {}\".format(X_test_selected.shape))"
   ]
  },
  {
   "cell_type": "code",
   "execution_count": 20,
   "id": "7cb89435",
   "metadata": {
    "ExecuteTime": {
     "end_time": "2023-03-19T14:50:10.234643Z",
     "start_time": "2023-03-19T14:49:59.684495Z"
    }
   },
   "outputs": [
    {
     "name": "stdout",
     "output_type": "stream",
     "text": [
      "Accuracy on training set: 1.0000\n",
      "Accuracy on test set: 0.9348\n"
     ]
    }
   ],
   "source": [
    "forest = RandomForestClassifier(n_estimators=3000, max_features=300, random_state=1) \n",
    "forest.fit(X_train_selected, y_train) \n",
    "print(\"Accuracy on training set: {:.4f}\".format(forest.score(X_train_selected, y_train))) \n",
    "print(\"Accuracy on test set: {:.4f}\".format(forest.score(X_test_selected, y_test)))"
   ]
  },
  {
   "cell_type": "code",
   "execution_count": 10,
   "id": "d5d2b2ad",
   "metadata": {
    "ExecuteTime": {
     "end_time": "2023-03-19T14:03:20.228312Z",
     "start_time": "2023-03-19T14:03:12.711202Z"
    }
   },
   "outputs": [
    {
     "name": "stdout",
     "output_type": "stream",
     "text": [
      "Accuracy on training set: 1.0000\n",
      "Accuracy on test set: 0.8261\n"
     ]
    }
   ],
   "source": [
    "from sklearn.ensemble import GradientBoostingClassifier \n",
    "gbrt = GradientBoostingClassifier(random_state=0) \n",
    "gbrt.fit(X_train_selected, y_train) \n",
    " \n",
    "print(\"Accuracy on training set: {:.4f}\".format(gbrt.score(X_train_selected, y_train))) \n",
    "print(\"Accuracy on test set: {:.4f}\".format(gbrt.score(X_test_selected, y_test)))"
   ]
  },
  {
   "cell_type": "code",
   "execution_count": 12,
   "id": "8d3dec3a",
   "metadata": {
    "ExecuteTime": {
     "end_time": "2023-03-19T14:05:26.391387Z",
     "start_time": "2023-03-19T14:05:26.375389Z"
    }
   },
   "outputs": [
    {
     "name": "stdout",
     "output_type": "stream",
     "text": [
      "Accuracy on training set: 1.0000\n",
      "Accuracy on test set: 0.5217\n"
     ]
    }
   ],
   "source": [
    "from sklearn.neighbors import KNeighborsClassifier \n",
    "knn = KNeighborsClassifier(n_neighbors=1)\n",
    "knn.fit(X_train_selected, y_train)\n",
    "print(\"Accuracy on training set: {:.4f}\".format(knn.score(X_train_selected, y_train))) \n",
    "print(\"Accuracy on test set: {:.4f}\".format(knn.score(X_test_selected, y_test)))"
   ]
  },
  {
   "cell_type": "code",
   "execution_count": 13,
   "id": "0619c300",
   "metadata": {
    "ExecuteTime": {
     "end_time": "2023-03-19T14:06:39.635544Z",
     "start_time": "2023-03-19T14:06:39.593548Z"
    }
   },
   "outputs": [
    {
     "name": "stdout",
     "output_type": "stream",
     "text": [
      "Accuracy on training set: 0.9945\n",
      "Accuracy on test set: 0.3913\n"
     ]
    }
   ],
   "source": [
    "from sklearn.naive_bayes import GaussianNB\n",
    "gnb = GaussianNB()\n",
    "gnb.fit(X_train_selected, y_train)\n",
    "print(\"Accuracy on training set: {:.4f}\".format(gnb.score(X_train_selected, y_train))) \n",
    "print(\"Accuracy on test set: {:.4f}\".format(gnb.score(X_test_selected, y_test)))"
   ]
  },
  {
   "cell_type": "code",
   "execution_count": 14,
   "id": "3e538ee1",
   "metadata": {
    "ExecuteTime": {
     "end_time": "2023-03-19T14:07:37.377970Z",
     "start_time": "2023-03-19T14:07:37.330531Z"
    }
   },
   "outputs": [
    {
     "name": "stdout",
     "output_type": "stream",
     "text": [
      "Accuracy on training set: 0.7527\n",
      "Accuracy on test set: 0.5217\n"
     ]
    }
   ],
   "source": [
    "from sklearn.svm import SVC\n",
    "svc = SVC()\n",
    "svc.fit(X_train_selected, y_train)\n",
    "print(\"Accuracy on training set: {:.4f}\".format(svc.score(X_train_selected, y_train))) \n",
    "print(\"Accuracy on test set: {:.4f}\".format(svc.score(X_test_selected, y_test)))"
   ]
  },
  {
   "cell_type": "code",
   "execution_count": 23,
   "id": "bf772cc8",
   "metadata": {
    "ExecuteTime": {
     "end_time": "2023-03-19T14:51:08.695940Z",
     "start_time": "2023-03-19T14:51:08.662917Z"
    }
   },
   "outputs": [
    {
     "name": "stdout",
     "output_type": "stream",
     "text": [
      "Accuracy on training set: 1.0000\n",
      "Accuracy on test set: 0.7174\n"
     ]
    }
   ],
   "source": [
    "from sklearn.tree import DecisionTreeClassifier \n",
    "tree = DecisionTreeClassifier(random_state=1) \n",
    "tree.fit(X_train_selected, y_train) \n",
    "print(\"Accuracy on training set: {:.4f}\".format(tree.score(X_train_selected, y_train))) \n",
    "print(\"Accuracy on test set: {:.4f}\".format(tree.score(X_test_selected, y_test)))"
   ]
  },
  {
   "cell_type": "code",
   "execution_count": null,
   "id": "3c148c0a",
   "metadata": {},
   "outputs": [],
   "source": []
  }
 ],
 "metadata": {
  "kernelspec": {
   "display_name": "Python 3 (ipykernel)",
   "language": "python",
   "name": "python3"
  },
  "language_info": {
   "codemirror_mode": {
    "name": "ipython",
    "version": 3
   },
   "file_extension": ".py",
   "mimetype": "text/x-python",
   "name": "python",
   "nbconvert_exporter": "python",
   "pygments_lexer": "ipython3",
   "version": "3.9.1"
  },
  "toc": {
   "base_numbering": 1,
   "nav_menu": {},
   "number_sections": true,
   "sideBar": true,
   "skip_h1_title": false,
   "title_cell": "Table of Contents",
   "title_sidebar": "Contents",
   "toc_cell": false,
   "toc_position": {},
   "toc_section_display": true,
   "toc_window_display": false
  },
  "varInspector": {
   "cols": {
    "lenName": 16,
    "lenType": 16,
    "lenVar": 40
   },
   "kernels_config": {
    "python": {
     "delete_cmd_postfix": "",
     "delete_cmd_prefix": "del ",
     "library": "var_list.py",
     "varRefreshCmd": "print(var_dic_list())"
    },
    "r": {
     "delete_cmd_postfix": ") ",
     "delete_cmd_prefix": "rm(",
     "library": "var_list.r",
     "varRefreshCmd": "cat(var_dic_list()) "
    }
   },
   "position": {
    "height": "378.844px",
    "left": "1550px",
    "right": "20px",
    "top": "120px",
    "width": "350px"
   },
   "types_to_exclude": [
    "module",
    "function",
    "builtin_function_or_method",
    "instance",
    "_Feature"
   ],
   "window_display": false
  }
 },
 "nbformat": 4,
 "nbformat_minor": 5
}
