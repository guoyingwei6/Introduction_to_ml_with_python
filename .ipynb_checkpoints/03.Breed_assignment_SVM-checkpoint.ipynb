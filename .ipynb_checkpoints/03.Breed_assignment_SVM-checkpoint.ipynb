{
 "cells": [
  {
   "cell_type": "markdown",
   "id": "8488c6a7",
   "metadata": {
    "toc": true
   },
   "source": [
    "<h1>Table of Contents<span class=\"tocSkip\"></span></h1>\n",
    "<div class=\"toc\"><ul class=\"toc-item\"></ul></div>"
   ]
  },
  {
   "cell_type": "markdown",
   "id": "f118dfef",
   "metadata": {},
   "source": [
    "# 03.品种鉴定——支持向量机 SVM"
   ]
  },
  {
   "cell_type": "code",
   "execution_count": 1,
   "id": "3c6d4811",
   "metadata": {
    "ExecuteTime": {
     "end_time": "2023-02-28T15:15:18.243835Z",
     "start_time": "2023-02-28T15:15:17.403740Z"
    }
   },
   "outputs": [],
   "source": [
    "import numpy as np\n",
    "import pandas as pd\n",
    "from sklearn.model_selection import train_test_split \n",
    "from sklearn.metrics import accuracy_score \n",
    "from sklearn.metrics import confusion_matrix \n",
    "from sklearn.svm import SVC"
   ]
  },
  {
   "cell_type": "code",
   "execution_count": 2,
   "id": "1d96b8ba",
   "metadata": {
    "ExecuteTime": {
     "end_time": "2023-02-28T15:15:46.707165Z",
     "start_time": "2023-02-28T15:15:46.603251Z"
    }
   },
   "outputs": [],
   "source": [
    "# 读取数据\n",
    "ori_df = pd.read_table('data_for_ml', header = None, sep=' ')\n",
    "all_features = ori_df.iloc[:, 1:].values\n",
    "all_labels = ori_df.iloc[:, :1].values.ravel()"
   ]
  },
  {
   "cell_type": "code",
   "execution_count": 3,
   "id": "58f5d63d",
   "metadata": {
    "ExecuteTime": {
     "end_time": "2023-02-28T15:15:54.193419Z",
     "start_time": "2023-02-28T15:15:54.181905Z"
    }
   },
   "outputs": [
    {
     "name": "stdout",
     "output_type": "stream",
     "text": [
      "X_train shape: (171, 767)\n",
      "y_train shape: (171,)\n",
      "X_test shape: (57, 767)\n",
      "y_test shape: (57,)\n"
     ]
    }
   ],
   "source": [
    "# 数据分割\n",
    "from sklearn.model_selection import train_test_split \n",
    "X_train, X_test, y_train, y_test = train_test_split( \n",
    "    all_features, all_labels, random_state=0)\n",
    "print(\"X_train shape: {}\".format(X_train.shape)) \n",
    "print(\"y_train shape: {}\".format(y_train.shape))\n",
    "print(\"X_test shape: {}\".format(X_test.shape)) \n",
    "print(\"y_test shape: {}\".format(y_test.shape))"
   ]
  },
  {
   "cell_type": "code",
   "execution_count": null,
   "id": "2d2d653f",
   "metadata": {},
   "outputs": [],
   "source": [
    "# train\n",
    "from sklearn.svm import SVC"
   ]
  }
 ],
 "metadata": {
  "kernelspec": {
   "display_name": "Python 3 (ipykernel)",
   "language": "python",
   "name": "python3"
  },
  "language_info": {
   "codemirror_mode": {
    "name": "ipython",
    "version": 3
   },
   "file_extension": ".py",
   "mimetype": "text/x-python",
   "name": "python",
   "nbconvert_exporter": "python",
   "pygments_lexer": "ipython3",
   "version": "3.7.6"
  },
  "toc": {
   "base_numbering": 1,
   "nav_menu": {},
   "number_sections": false,
   "sideBar": true,
   "skip_h1_title": true,
   "title_cell": "Table of Contents",
   "title_sidebar": "Contents",
   "toc_cell": true,
   "toc_position": {
    "height": "795px",
    "left": "21px",
    "top": "0px",
    "width": "384px"
   },
   "toc_section_display": true,
   "toc_window_display": false
  },
  "varInspector": {
   "cols": {
    "lenName": 16,
    "lenType": 16,
    "lenVar": 40
   },
   "kernels_config": {
    "python": {
     "delete_cmd_postfix": "",
     "delete_cmd_prefix": "del ",
     "library": "var_list.py",
     "varRefreshCmd": "print(var_dic_list())"
    },
    "r": {
     "delete_cmd_postfix": ") ",
     "delete_cmd_prefix": "rm(",
     "library": "var_list.r",
     "varRefreshCmd": "cat(var_dic_list()) "
    }
   },
   "types_to_exclude": [
    "module",
    "function",
    "builtin_function_or_method",
    "instance",
    "_Feature"
   ],
   "window_display": false
  }
 },
 "nbformat": 4,
 "nbformat_minor": 5
}
