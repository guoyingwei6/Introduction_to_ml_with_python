{
 "cells": [
  {
   "cell_type": "markdown",
   "id": "828c6774",
   "metadata": {
    "toc": true
   },
   "source": [
    "<h1>Table of Contents<span class=\"tocSkip\"></span></h1>\n",
    "<div class=\"toc\"><ul class=\"toc-item\"></ul></div>"
   ]
  },
  {
   "cell_type": "markdown",
   "id": "727cee9b",
   "metadata": {},
   "source": [
    "# 05.品种鉴定——随机森林 RF"
   ]
  },
  {
   "cell_type": "code",
   "execution_count": 6,
   "id": "eb6d2810",
   "metadata": {
    "ExecuteTime": {
     "end_time": "2023-03-08T07:29:35.707371Z",
     "start_time": "2023-03-08T07:29:35.700308Z"
    }
   },
   "outputs": [],
   "source": [
    "import numpy as np\n",
    "import pandas as pd\n",
    "from sklearn.model_selection import train_test_split \n",
    "from sklearn.metrics import accuracy_score \n",
    "from sklearn.metrics import confusion_matrix \n",
    "from sklearn.ensemble import RandomForestClassifier"
   ]
  },
  {
   "cell_type": "code",
   "execution_count": 4,
   "id": "4cd83ea8",
   "metadata": {
    "ExecuteTime": {
     "end_time": "2023-03-08T07:29:12.596843Z",
     "start_time": "2023-03-08T07:29:12.540714Z"
    }
   },
   "outputs": [
    {
     "name": "stdout",
     "output_type": "stream",
     "text": [
      "X_train shape: (171, 767)\n",
      "y_train shape: (171,)\n",
      "X_test shape: (57, 767)\n",
      "y_test shape: (57,)\n"
     ]
    }
   ],
   "source": [
    "# 读取数据\n",
    "ori_df = pd.read_table('data_for_ml', header = None, sep=' ')\n",
    "all_features = ori_df.iloc[:, 1:].values\n",
    "all_labels = ori_df.iloc[:, :1].values.ravel()\n",
    "# 数据分割\n",
    "from sklearn.model_selection import train_test_split \n",
    "X_train, X_test, y_train, y_test = train_test_split( \n",
    "    all_features, all_labels, random_state=0)\n",
    "print(\"X_train shape: {}\".format(X_train.shape)) \n",
    "print(\"y_train shape: {}\".format(y_train.shape))\n",
    "print(\"X_test shape: {}\".format(X_test.shape)) \n",
    "print(\"y_test shape: {}\".format(y_test.shape))"
   ]
  },
  {
   "cell_type": "code",
   "execution_count": 3,
   "id": "28647720",
   "metadata": {
    "ExecuteTime": {
     "end_time": "2023-03-07T08:58:32.207145Z",
     "start_time": "2023-03-07T08:58:32.180135Z"
    }
   },
   "outputs": [
    {
     "name": "stdout",
     "output_type": "stream",
     "text": [
      "Accuracy on training set: 1.000\n",
      "Accuracy on test set: 0.421\n"
     ]
    }
   ],
   "source": [
    "forest = RandomForestClassifier(n_estimators=10, random_state=0) \n",
    "forest.fit(X_train, y_train) \n",
    "print(\"Accuracy on training set: {:.3f}\".format(forest.score(X_train, y_train))) \n",
    "print(\"Accuracy on test set: {:.3f}\".format(forest.score(X_test, y_test)))"
   ]
  },
  {
   "cell_type": "code",
   "execution_count": 4,
   "id": "4cc20d2b",
   "metadata": {
    "ExecuteTime": {
     "end_time": "2023-03-07T08:58:47.857490Z",
     "start_time": "2023-03-07T08:58:47.669276Z"
    }
   },
   "outputs": [
    {
     "name": "stdout",
     "output_type": "stream",
     "text": [
      "Accuracy on training set: 1.000\n",
      "Accuracy on test set: 0.579\n"
     ]
    }
   ],
   "source": [
    "forest = RandomForestClassifier(n_estimators=100, random_state=0) \n",
    "forest.fit(X_train, y_train) \n",
    "print(\"Accuracy on training set: {:.3f}\".format(forest.score(X_train, y_train))) \n",
    "print(\"Accuracy on test set: {:.3f}\".format(forest.score(X_test, y_test)))"
   ]
  },
  {
   "cell_type": "code",
   "execution_count": 5,
   "id": "ff750c03",
   "metadata": {
    "ExecuteTime": {
     "end_time": "2023-03-07T08:58:57.106975Z",
     "start_time": "2023-03-07T08:58:55.580960Z"
    }
   },
   "outputs": [
    {
     "name": "stdout",
     "output_type": "stream",
     "text": [
      "Accuracy on training set: 1.000\n",
      "Accuracy on test set: 0.667\n"
     ]
    }
   ],
   "source": [
    "forest = RandomForestClassifier(n_estimators=1000, random_state=0) \n",
    "forest.fit(X_train, y_train) \n",
    "print(\"Accuracy on training set: {:.3f}\".format(forest.score(X_train, y_train))) \n",
    "print(\"Accuracy on test set: {:.3f}\".format(forest.score(X_test, y_test)))"
   ]
  },
  {
   "cell_type": "code",
   "execution_count": 6,
   "id": "46b51204",
   "metadata": {
    "ExecuteTime": {
     "end_time": "2023-03-07T08:59:21.325349Z",
     "start_time": "2023-03-07T08:59:07.164130Z"
    }
   },
   "outputs": [
    {
     "name": "stdout",
     "output_type": "stream",
     "text": [
      "Accuracy on training set: 1.000\n",
      "Accuracy on test set: 0.684\n"
     ]
    }
   ],
   "source": [
    "forest = RandomForestClassifier(n_estimators=10000, random_state=0) \n",
    "forest.fit(X_train, y_train) \n",
    "print(\"Accuracy on training set: {:.3f}\".format(forest.score(X_train, y_train))) \n",
    "print(\"Accuracy on test set: {:.3f}\".format(forest.score(X_test, y_test)))"
   ]
  },
  {
   "cell_type": "code",
   "execution_count": 7,
   "id": "5ca6c895",
   "metadata": {
    "ExecuteTime": {
     "end_time": "2023-03-07T09:07:07.397381Z",
     "start_time": "2023-03-07T09:04:44.173315Z"
    }
   },
   "outputs": [
    {
     "name": "stdout",
     "output_type": "stream",
     "text": [
      "Accuracy on training set: 1.000\n",
      "Accuracy on test set: 0.684\n"
     ]
    }
   ],
   "source": [
    "forest = RandomForestClassifier(n_estimators=100000, random_state=0) \n",
    "forest.fit(X_train, y_train) \n",
    "print(\"Accuracy on training set: {:.3f}\".format(forest.score(X_train, y_train))) \n",
    "print(\"Accuracy on test set: {:.3f}\".format(forest.score(X_test, y_test)))"
   ]
  },
  {
   "cell_type": "code",
   "execution_count": 13,
   "id": "af6a2823",
   "metadata": {
    "ExecuteTime": {
     "end_time": "2023-03-07T09:12:25.685822Z",
     "start_time": "2023-03-07T09:12:18.479199Z"
    }
   },
   "outputs": [
    {
     "name": "stdout",
     "output_type": "stream",
     "text": [
      "Accuracy on training set: 1.0000\n",
      "Accuracy on test set: 0.6842\n"
     ]
    }
   ],
   "source": [
    "forest = RandomForestClassifier(n_estimators=5000, max_features=30, random_state=0) \n",
    "forest.fit(X_train, y_train) \n",
    "print(\"Accuracy on training set: {:.4f}\".format(forest.score(X_train, y_train))) \n",
    "print(\"Accuracy on test set: {:.4f}\".format(forest.score(X_test, y_test)))"
   ]
  },
  {
   "cell_type": "markdown",
   "id": "e3a4201c",
   "metadata": {},
   "source": [
    "RF是目前最好的模型，当n_estimators=5000时，测试数据集准确性可以达到0.68，调节max_features参数仿佛对结果没有影响？？？"
   ]
  },
  {
   "cell_type": "code",
   "execution_count": 7,
   "id": "09fd8ea6",
   "metadata": {
    "ExecuteTime": {
     "end_time": "2023-03-08T07:30:02.675562Z",
     "start_time": "2023-03-08T07:29:57.742280Z"
    }
   },
   "outputs": [
    {
     "name": "stdout",
     "output_type": "stream",
     "text": [
      "(43, 767) (43,)\n",
      "Accuracy on training set: 1.0000\n",
      "Accuracy on test set: 1.0000\n"
     ]
    }
   ],
   "source": [
    "# 用YHC和ZTC两个品种\n",
    "two_breeds_features = ori_df.iloc[184:227, 1:].values\n",
    "two_breeds_labels = ori_df.iloc[184:227, :1].values.ravel()\n",
    "print(two_breeds_features.shape, two_breeds_labels.shape)\n",
    "from sklearn.model_selection import train_test_split \n",
    "X_train, X_test, y_train, y_test = train_test_split( \n",
    "    two_breeds_features, two_breeds_labels, random_state=0)\n",
    "forest = RandomForestClassifier(n_estimators=5000, max_features=30, random_state=0) \n",
    "forest.fit(X_train, y_train) \n",
    "print(\"Accuracy on training set: {:.4f}\".format(forest.score(X_train, y_train))) \n",
    "print(\"Accuracy on test set: {:.4f}\".format(forest.score(X_test, y_test)))"
   ]
  }
 ],
 "metadata": {
  "kernelspec": {
   "display_name": "Python 3 (ipykernel)",
   "language": "python",
   "name": "python3"
  },
  "language_info": {
   "codemirror_mode": {
    "name": "ipython",
    "version": 3
   },
   "file_extension": ".py",
   "mimetype": "text/x-python",
   "name": "python",
   "nbconvert_exporter": "python",
   "pygments_lexer": "ipython3",
   "version": "3.9.1"
  },
  "toc": {
   "base_numbering": 1,
   "nav_menu": {},
   "number_sections": false,
   "sideBar": true,
   "skip_h1_title": true,
   "title_cell": "Table of Contents",
   "title_sidebar": "Contents",
   "toc_cell": true,
   "toc_position": {
    "height": "795px",
    "left": "48px",
    "top": "52px",
    "width": "384px"
   },
   "toc_section_display": true,
   "toc_window_display": true
  },
  "varInspector": {
   "cols": {
    "lenName": 16,
    "lenType": 16,
    "lenVar": 40
   },
   "kernels_config": {
    "python": {
     "delete_cmd_postfix": "",
     "delete_cmd_prefix": "del ",
     "library": "var_list.py",
     "varRefreshCmd": "print(var_dic_list())"
    },
    "r": {
     "delete_cmd_postfix": ") ",
     "delete_cmd_prefix": "rm(",
     "library": "var_list.r",
     "varRefreshCmd": "cat(var_dic_list()) "
    }
   },
   "types_to_exclude": [
    "module",
    "function",
    "builtin_function_or_method",
    "instance",
    "_Feature"
   ],
   "window_display": false
  }
 },
 "nbformat": 4,
 "nbformat_minor": 5
}
