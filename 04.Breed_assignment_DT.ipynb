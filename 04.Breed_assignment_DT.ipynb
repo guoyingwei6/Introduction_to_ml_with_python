{
 "cells": [
  {
   "cell_type": "markdown",
   "id": "ec1dec81",
   "metadata": {
    "toc": true
   },
   "source": [
    "<h1>Table of Contents<span class=\"tocSkip\"></span></h1>\n",
    "<div class=\"toc\"><ul class=\"toc-item\"></ul></div>"
   ]
  },
  {
   "cell_type": "markdown",
   "id": "73e50c05",
   "metadata": {},
   "source": [
    "# 04.品种鉴定——决策树 DT"
   ]
  },
  {
   "cell_type": "code",
   "execution_count": 2,
   "id": "ba009083",
   "metadata": {
    "ExecuteTime": {
     "end_time": "2023-03-08T07:27:51.901317Z",
     "start_time": "2023-03-08T07:27:50.881577Z"
    }
   },
   "outputs": [],
   "source": [
    "import numpy as np\n",
    "import pandas as pd\n",
    "from sklearn.model_selection import train_test_split \n",
    "from sklearn.metrics import accuracy_score \n",
    "from sklearn.metrics import confusion_matrix \n",
    "from sklearn.tree import DecisionTreeClassifier "
   ]
  },
  {
   "cell_type": "code",
   "execution_count": 3,
   "id": "c92ca909",
   "metadata": {
    "ExecuteTime": {
     "end_time": "2023-03-08T07:27:52.525501Z",
     "start_time": "2023-03-08T07:27:52.483543Z"
    }
   },
   "outputs": [],
   "source": [
    "# 读取数据\n",
    "ori_df = pd.read_table('data_for_ml', header = None, sep=' ')\n",
    "all_features = ori_df.iloc[:, 1:].values\n",
    "all_labels = ori_df.iloc[:, :1].values.ravel()"
   ]
  },
  {
   "cell_type": "code",
   "execution_count": 3,
   "id": "e8b9cf75",
   "metadata": {
    "ExecuteTime": {
     "end_time": "2023-03-07T08:08:22.777178Z",
     "start_time": "2023-03-07T08:08:22.763181Z"
    }
   },
   "outputs": [
    {
     "name": "stdout",
     "output_type": "stream",
     "text": [
      "X_train shape: (171, 767)\n",
      "y_train shape: (171,)\n",
      "X_test shape: (57, 767)\n",
      "y_test shape: (57,)\n"
     ]
    }
   ],
   "source": [
    "# 数据分割\n",
    "from sklearn.model_selection import train_test_split \n",
    "X_train, X_test, y_train, y_test = train_test_split( \n",
    "    all_features, all_labels, random_state=0)\n",
    "print(\"X_train shape: {}\".format(X_train.shape)) \n",
    "print(\"y_train shape: {}\".format(y_train.shape))\n",
    "print(\"X_test shape: {}\".format(X_test.shape)) \n",
    "print(\"y_test shape: {}\".format(y_test.shape))"
   ]
  },
  {
   "cell_type": "code",
   "execution_count": 6,
   "id": "b12aa819",
   "metadata": {
    "ExecuteTime": {
     "end_time": "2023-03-07T08:35:44.224229Z",
     "start_time": "2023-03-07T08:35:44.199626Z"
    }
   },
   "outputs": [
    {
     "name": "stdout",
     "output_type": "stream",
     "text": [
      "Test set predictions:\n",
      " [ 7  4  6  9  7  5  7  8  5  4  2  2  6  1  3  7  5  4  2  4  8  2  4 10\n",
      "  7  3  7  2  3  2  4  7  9  3  5  2  2  8  1  1  7  5  2  3 10  4  2  3\n",
      "  2  4  2  7  9  1  1  7  2]\n",
      "Accuracy on training set: 1.000\n",
      "Accuracy on test set: 0.491\n",
      "Confusion matrix:\n",
      "[[3 2 1 1 0 0 0 0 0 0]\n",
      " [0 3 0 0 0 0 0 0 0 0]\n",
      " [0 0 3 0 0 1 0 0 0 0]\n",
      " [1 0 0 0 0 0 0 1 0 0]\n",
      " [1 4 0 0 4 0 1 0 0 0]\n",
      " [0 0 2 0 0 1 0 0 0 0]\n",
      " [0 4 0 0 0 0 7 0 0 0]\n",
      " [0 0 0 3 0 0 0 2 0 0]\n",
      " [0 0 0 3 0 0 0 0 3 0]\n",
      " [0 0 0 1 1 0 2 0 0 2]]\n"
     ]
    }
   ],
   "source": [
    "from sklearn.tree import DecisionTreeClassifier \n",
    "tree = DecisionTreeClassifier(random_state=0) \n",
    "tree.fit(X_train, y_train) \n",
    "y_pred = tree.predict(X_test) \n",
    "print(\"Test set predictions:\\n {}\".format(y_pred))\n",
    "print(\"Accuracy on training set: {:.3f}\".format(tree.score(X_train, y_train))) \n",
    "print(\"Accuracy on test set: {:.3f}\".format(tree.score(X_test, y_test)))\n",
    "print(\"Confusion matrix:\\n{}\".format(confusion_matrix(y_test, y_pred)))"
   ]
  },
  {
   "cell_type": "code",
   "execution_count": 7,
   "id": "1254fc86",
   "metadata": {
    "ExecuteTime": {
     "end_time": "2023-03-07T08:36:26.367461Z",
     "start_time": "2023-03-07T08:36:26.351865Z"
    }
   },
   "outputs": [
    {
     "name": "stdout",
     "output_type": "stream",
     "text": [
      "Test set predictions:\n",
      " [ 7  4  3  9 10  5 10  4  2  8  2  2  3  1  3 10  3  4  2  8  8  2  4 10\n",
      "  7  3  7  2  3  2  8 10  9  5  3  1  1  8  3  1  4  3  2  4 10  4  2  5\n",
      "  2  4  2 10  9  1  1  7  2]\n",
      "Accuracy on training set: 0.766\n",
      "Accuracy on test set: 0.439\n",
      "Confusion matrix:\n",
      "[[4 0 2 1 0 0 0 0 0 0]\n",
      " [0 3 0 0 0 0 0 0 0 0]\n",
      " [0 0 2 0 2 0 0 0 0 0]\n",
      " [1 0 0 1 0 0 0 0 0 0]\n",
      " [1 4 3 0 1 0 1 0 0 0]\n",
      " [0 0 2 1 0 0 0 0 0 0]\n",
      " [0 4 0 0 0 0 3 0 0 4]\n",
      " [0 0 0 0 0 0 0 5 0 0]\n",
      " [0 0 0 3 0 0 0 0 3 0]\n",
      " [0 1 0 2 0 0 0 0 0 3]]\n"
     ]
    }
   ],
   "source": [
    "tree = DecisionTreeClassifier(max_depth=4, random_state=0) \n",
    "tree.fit(X_train, y_train) \n",
    "y_pred = tree.predict(X_test) \n",
    "print(\"Test set predictions:\\n {}\".format(y_pred))\n",
    "print(\"Accuracy on training set: {:.3f}\".format(tree.score(X_train, y_train))) \n",
    "print(\"Accuracy on test set: {:.3f}\".format(tree.score(X_test, y_test)))\n",
    "print(\"Confusion matrix:\\n{}\".format(confusion_matrix(y_test, y_pred)))"
   ]
  },
  {
   "cell_type": "code",
   "execution_count": 8,
   "id": "17668e4d",
   "metadata": {
    "ExecuteTime": {
     "end_time": "2023-03-07T08:37:03.679403Z",
     "start_time": "2023-03-07T08:37:03.665387Z"
    }
   },
   "outputs": [
    {
     "name": "stdout",
     "output_type": "stream",
     "text": [
      "Feature importances:\n",
      "[0.         0.         0.         0.         0.         0.\n",
      " 0.         0.         0.         0.         0.         0.\n",
      " 0.         0.         0.         0.         0.         0.\n",
      " 0.         0.         0.         0.         0.         0.\n",
      " 0.         0.         0.         0.         0.         0.\n",
      " 0.         0.         0.         0.         0.11731322 0.\n",
      " 0.         0.         0.         0.         0.         0.\n",
      " 0.         0.         0.         0.         0.         0.\n",
      " 0.         0.         0.         0.         0.         0.\n",
      " 0.         0.         0.         0.         0.         0.\n",
      " 0.         0.         0.         0.         0.         0.\n",
      " 0.         0.         0.         0.         0.         0.\n",
      " 0.         0.         0.         0.         0.         0.\n",
      " 0.         0.         0.         0.         0.         0.\n",
      " 0.         0.         0.         0.         0.         0.\n",
      " 0.         0.         0.         0.         0.         0.\n",
      " 0.         0.         0.         0.         0.         0.\n",
      " 0.         0.         0.         0.         0.         0.\n",
      " 0.         0.         0.         0.         0.         0.\n",
      " 0.         0.         0.         0.         0.         0.\n",
      " 0.         0.         0.         0.         0.         0.\n",
      " 0.         0.         0.         0.         0.         0.\n",
      " 0.         0.         0.         0.         0.         0.\n",
      " 0.         0.         0.         0.         0.         0.\n",
      " 0.         0.         0.         0.         0.         0.\n",
      " 0.         0.         0.         0.         0.         0.\n",
      " 0.         0.         0.         0.         0.         0.\n",
      " 0.         0.         0.         0.         0.         0.\n",
      " 0.0872318  0.         0.         0.         0.         0.\n",
      " 0.         0.         0.         0.         0.         0.\n",
      " 0.         0.         0.         0.         0.         0.\n",
      " 0.         0.         0.         0.         0.         0.\n",
      " 0.         0.         0.         0.         0.         0.\n",
      " 0.         0.         0.         0.06450532 0.         0.\n",
      " 0.         0.         0.         0.         0.         0.\n",
      " 0.         0.         0.         0.         0.         0.\n",
      " 0.         0.         0.         0.         0.         0.\n",
      " 0.         0.         0.         0.         0.         0.\n",
      " 0.         0.         0.         0.         0.         0.\n",
      " 0.         0.         0.         0.         0.         0.\n",
      " 0.         0.         0.         0.         0.         0.\n",
      " 0.         0.         0.         0.         0.         0.\n",
      " 0.         0.         0.         0.         0.         0.\n",
      " 0.         0.         0.         0.         0.         0.\n",
      " 0.         0.         0.         0.         0.         0.\n",
      " 0.         0.         0.         0.         0.         0.\n",
      " 0.         0.         0.         0.         0.         0.05957225\n",
      " 0.         0.         0.         0.         0.         0.\n",
      " 0.         0.03488465 0.         0.         0.         0.\n",
      " 0.         0.         0.         0.         0.         0.\n",
      " 0.         0.         0.         0.         0.         0.\n",
      " 0.         0.         0.         0.         0.         0.\n",
      " 0.         0.         0.         0.         0.         0.\n",
      " 0.         0.         0.         0.         0.         0.\n",
      " 0.         0.         0.         0.         0.         0.\n",
      " 0.         0.         0.         0.         0.         0.\n",
      " 0.         0.         0.         0.         0.         0.\n",
      " 0.         0.         0.         0.         0.         0.\n",
      " 0.         0.         0.         0.         0.         0.\n",
      " 0.         0.         0.         0.         0.         0.\n",
      " 0.         0.         0.         0.         0.         0.\n",
      " 0.         0.         0.         0.         0.         0.\n",
      " 0.         0.         0.         0.         0.         0.\n",
      " 0.         0.         0.         0.         0.         0.\n",
      " 0.         0.         0.         0.         0.         0.\n",
      " 0.         0.         0.         0.         0.         0.\n",
      " 0.         0.         0.         0.         0.         0.\n",
      " 0.         0.         0.         0.         0.         0.\n",
      " 0.         0.         0.         0.         0.         0.\n",
      " 0.04983521 0.         0.         0.         0.         0.02923666\n",
      " 0.         0.         0.         0.         0.         0.\n",
      " 0.         0.         0.         0.         0.         0.\n",
      " 0.         0.         0.         0.         0.         0.\n",
      " 0.         0.         0.         0.         0.         0.\n",
      " 0.         0.         0.         0.         0.         0.\n",
      " 0.         0.         0.         0.         0.         0.\n",
      " 0.         0.         0.         0.         0.         0.\n",
      " 0.         0.         0.         0.         0.         0.\n",
      " 0.         0.         0.         0.         0.         0.\n",
      " 0.         0.         0.         0.         0.         0.\n",
      " 0.         0.         0.         0.         0.         0.\n",
      " 0.         0.         0.         0.         0.         0.\n",
      " 0.         0.         0.         0.         0.         0.\n",
      " 0.         0.         0.         0.         0.         0.\n",
      " 0.         0.         0.         0.03344497 0.         0.\n",
      " 0.         0.         0.         0.         0.         0.\n",
      " 0.         0.         0.         0.         0.         0.\n",
      " 0.         0.         0.         0.         0.         0.\n",
      " 0.         0.         0.         0.         0.         0.\n",
      " 0.         0.         0.         0.         0.         0.\n",
      " 0.         0.         0.         0.         0.         0.\n",
      " 0.         0.         0.         0.         0.         0.\n",
      " 0.         0.         0.         0.         0.         0.\n",
      " 0.         0.         0.         0.         0.         0.\n",
      " 0.         0.         0.         0.         0.         0.\n",
      " 0.         0.         0.         0.         0.         0.\n",
      " 0.         0.         0.         0.         0.         0.\n",
      " 0.         0.         0.         0.         0.         0.\n",
      " 0.         0.         0.         0.         0.         0.\n",
      " 0.         0.         0.         0.         0.         0.\n",
      " 0.         0.         0.         0.         0.         0.\n",
      " 0.         0.         0.         0.         0.         0.\n",
      " 0.         0.         0.         0.         0.         0.\n",
      " 0.         0.         0.         0.         0.         0.\n",
      " 0.         0.         0.         0.         0.         0.\n",
      " 0.         0.         0.         0.         0.         0.\n",
      " 0.         0.         0.         0.         0.         0.\n",
      " 0.         0.         0.         0.         0.         0.\n",
      " 0.         0.         0.         0.         0.         0.\n",
      " 0.         0.         0.         0.         0.         0.\n",
      " 0.         0.         0.         0.         0.         0.\n",
      " 0.         0.         0.         0.         0.         0.\n",
      " 0.10076206 0.         0.         0.         0.         0.\n",
      " 0.         0.         0.         0.         0.         0.\n",
      " 0.         0.         0.         0.         0.         0.\n",
      " 0.         0.         0.08030861 0.         0.         0.\n",
      " 0.         0.12668378 0.         0.         0.         0.\n",
      " 0.         0.0611312  0.         0.         0.         0.\n",
      " 0.         0.         0.         0.         0.         0.\n",
      " 0.         0.         0.         0.         0.         0.\n",
      " 0.         0.         0.11492006 0.         0.         0.\n",
      " 0.         0.         0.         0.         0.         0.\n",
      " 0.         0.         0.         0.         0.         0.\n",
      " 0.         0.         0.         0.         0.         0.\n",
      " 0.         0.         0.0401702  0.         0.         0.\n",
      " 0.         0.         0.         0.         0.         0.\n",
      " 0.         0.         0.         0.         0.         0.\n",
      " 0.         0.         0.         0.         0.        ]\n"
     ]
    }
   ],
   "source": [
    "print(\"Feature importances:\\n{}\".format(tree.feature_importances_))"
   ]
  },
  {
   "cell_type": "markdown",
   "id": "bc36b7af",
   "metadata": {
    "ExecuteTime": {
     "end_time": "2023-03-07T08:37:27.268245Z",
     "start_time": "2023-03-07T08:37:27.239910Z"
    }
   },
   "source": [
    "决策树的泛化性能实在太差了，即使控制max_depth参数，在测试数据集上的准确性仍旧不到0.5。"
   ]
  },
  {
   "cell_type": "code",
   "execution_count": 4,
   "id": "18dddf74",
   "metadata": {
    "ExecuteTime": {
     "end_time": "2023-03-08T07:27:54.979358Z",
     "start_time": "2023-03-08T07:27:54.956340Z"
    }
   },
   "outputs": [
    {
     "name": "stdout",
     "output_type": "stream",
     "text": [
      "(43, 767) (43,)\n",
      "Test set predictions:\n",
      " [10  9 10  9  9  9 10  9 10 10  9]\n",
      "Accuracy on training set: 1.000\n",
      "Accuracy on test set: 0.727\n",
      "Confusion matrix:\n",
      "[[3 0]\n",
      " [3 5]]\n"
     ]
    }
   ],
   "source": [
    "# 用YHC和ZTC两个品种\n",
    "two_breeds_features = ori_df.iloc[184:227, 1:].values\n",
    "two_breeds_labels = ori_df.iloc[184:227, :1].values.ravel()\n",
    "print(two_breeds_features.shape, two_breeds_labels.shape)\n",
    "from sklearn.model_selection import train_test_split \n",
    "X_train, X_test, y_train, y_test = train_test_split( \n",
    "    two_breeds_features, two_breeds_labels, random_state=0)\n",
    "tree = DecisionTreeClassifier(max_depth=4, random_state=0) \n",
    "tree.fit(X_train, y_train) \n",
    "y_pred = tree.predict(X_test) \n",
    "print(\"Test set predictions:\\n {}\".format(y_pred))\n",
    "print(\"Accuracy on training set: {:.3f}\".format(tree.score(X_train, y_train))) \n",
    "print(\"Accuracy on test set: {:.3f}\".format(tree.score(X_test, y_test)))\n",
    "print(\"Confusion matrix:\\n{}\".format(confusion_matrix(y_test, y_pred)))"
   ]
  },
  {
   "cell_type": "code",
   "execution_count": null,
   "id": "7f72872c",
   "metadata": {},
   "outputs": [],
   "source": []
  }
 ],
 "metadata": {
  "kernelspec": {
   "display_name": "Python 3 (ipykernel)",
   "language": "python",
   "name": "python3"
  },
  "language_info": {
   "codemirror_mode": {
    "name": "ipython",
    "version": 3
   },
   "file_extension": ".py",
   "mimetype": "text/x-python",
   "name": "python",
   "nbconvert_exporter": "python",
   "pygments_lexer": "ipython3",
   "version": "3.9.1"
  },
  "toc": {
   "base_numbering": 1,
   "nav_menu": {},
   "number_sections": false,
   "sideBar": true,
   "skip_h1_title": true,
   "title_cell": "Table of Contents",
   "title_sidebar": "Contents",
   "toc_cell": true,
   "toc_position": {
    "height": "795px",
    "left": "139px",
    "top": "52px",
    "width": "384px"
   },
   "toc_section_display": true,
   "toc_window_display": true
  },
  "varInspector": {
   "cols": {
    "lenName": 16,
    "lenType": 16,
    "lenVar": 40
   },
   "kernels_config": {
    "python": {
     "delete_cmd_postfix": "",
     "delete_cmd_prefix": "del ",
     "library": "var_list.py",
     "varRefreshCmd": "print(var_dic_list())"
    },
    "r": {
     "delete_cmd_postfix": ") ",
     "delete_cmd_prefix": "rm(",
     "library": "var_list.r",
     "varRefreshCmd": "cat(var_dic_list()) "
    }
   },
   "position": {
    "height": "331.844px",
    "left": "1365px",
    "right": "20px",
    "top": "76px",
    "width": "535px"
   },
   "types_to_exclude": [
    "module",
    "function",
    "builtin_function_or_method",
    "instance",
    "_Feature"
   ],
   "window_display": true
  }
 },
 "nbformat": 4,
 "nbformat_minor": 5
}
