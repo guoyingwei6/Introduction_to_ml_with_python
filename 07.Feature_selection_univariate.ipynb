{
 "cells": [
  {
   "cell_type": "code",
   "execution_count": 1,
   "id": "7813c03f",
   "metadata": {
    "ExecuteTime": {
     "end_time": "2023-03-16T01:23:44.935615Z",
     "start_time": "2023-03-16T01:23:39.908442Z"
    }
   },
   "outputs": [],
   "source": [
    "import numpy as np\n",
    "import pandas as pd\n",
    "from sklearn.model_selection import train_test_split \n",
    "from sklearn.metrics import accuracy_score \n",
    "from sklearn.metrics import confusion_matrix \n",
    "from sklearn.feature_selection import RFE \n",
    "from sklearn.ensemble import RandomForestClassifier\n",
    "from sklearn.impute import KNNImputer\n",
    "from sklearn.feature_selection import SelectPercentile "
   ]
  },
  {
   "cell_type": "code",
   "execution_count": 2,
   "id": "9dffc8d4",
   "metadata": {
    "ExecuteTime": {
     "end_time": "2023-03-16T01:25:58.705023Z",
     "start_time": "2023-03-16T01:23:46.444105Z"
    }
   },
   "outputs": [],
   "source": [
    "# 读取数据\n",
    "ori_df = pd.read_table('data_for_ml_after_filter', header = None, sep=' ', dtype = 'str')"
   ]
  },
  {
   "cell_type": "code",
   "execution_count": 3,
   "id": "4cd00bdf",
   "metadata": {
    "ExecuteTime": {
     "end_time": "2023-03-16T01:26:10.112153Z",
     "start_time": "2023-03-16T01:26:09.677156Z"
    }
   },
   "outputs": [],
   "source": [
    "# replace nan str to np.nan\n",
    "replace_df = ori_df.replace('nan', np.nan)"
   ]
  },
  {
   "cell_type": "code",
   "execution_count": 4,
   "id": "cd302de0",
   "metadata": {
    "ExecuteTime": {
     "end_time": "2023-03-16T01:26:15.801319Z",
     "start_time": "2023-03-16T01:26:15.787310Z"
    }
   },
   "outputs": [],
   "source": [
    "# 分特征和标签\n",
    "all_features = replace_df.iloc[:, 1:].values\n",
    "all_labels = replace_df.iloc[:, :1].values.ravel()"
   ]
  },
  {
   "cell_type": "code",
   "execution_count": 5,
   "id": "8a5e212c",
   "metadata": {
    "ExecuteTime": {
     "end_time": "2023-03-16T01:27:43.371470Z",
     "start_time": "2023-03-16T01:26:39.007643Z"
    }
   },
   "outputs": [],
   "source": [
    "# impute缺失值\n",
    "imputer = KNNImputer(n_neighbors=5, weights=\"uniform\")\n",
    "all_features_imputed_df=imputer.fit_transform(all_features)"
   ]
  },
  {
   "cell_type": "code",
   "execution_count": 11,
   "id": "283de2ed",
   "metadata": {
    "ExecuteTime": {
     "end_time": "2023-03-16T01:34:51.821459Z",
     "start_time": "2023-03-16T01:34:51.572517Z"
    }
   },
   "outputs": [],
   "source": [
    "# 数据分割\n",
    "from sklearn.model_selection import train_test_split \n",
    "X_train, X_test, y_train, y_test = train_test_split( \n",
    "    all_features_imputed_df, all_labels, random_state=1, test_size=0.2)"
   ]
  },
  {
   "cell_type": "code",
   "execution_count": 12,
   "id": "56278700",
   "metadata": {
    "ExecuteTime": {
     "end_time": "2023-03-16T01:34:54.876498Z",
     "start_time": "2023-03-16T01:34:54.540496Z"
    }
   },
   "outputs": [
    {
     "data": {
      "text/plain": [
       "SelectPercentile(percentile=1)"
      ]
     },
     "execution_count": 12,
     "metadata": {},
     "output_type": "execute_result"
    }
   ],
   "source": [
    "# 使用f_classif（默认值）和SelectPercentile来选择1%的特征 \n",
    "select = SelectPercentile(percentile=1) \n",
    "select.fit(X_train, y_train) "
   ]
  },
  {
   "cell_type": "code",
   "execution_count": 13,
   "id": "9042a2d1",
   "metadata": {
    "ExecuteTime": {
     "end_time": "2023-03-16T01:34:56.836325Z",
     "start_time": "2023-03-16T01:34:56.780314Z"
    }
   },
   "outputs": [
    {
     "name": "stdout",
     "output_type": "stream",
     "text": [
      "X_train.shape: (182, 117382)\n",
      "X_train_selected.shape: (182, 1174)\n",
      "X_test_selected.shape: (46, 1174)\n"
     ]
    }
   ],
   "source": [
    "# 对训练集进行变换 \n",
    "X_train_selected = select.transform(X_train) \n",
    "X_test_selected = select.transform(X_test) \n",
    " \n",
    "print(\"X_train.shape: {}\".format(X_train.shape)) \n",
    "print(\"X_train_selected.shape: {}\".format(X_train_selected.shape))\n",
    "print(\"X_test_selected.shape: {}\".format(X_test_selected.shape))"
   ]
  },
  {
   "cell_type": "code",
   "execution_count": 31,
   "id": "7cb89435",
   "metadata": {
    "ExecuteTime": {
     "end_time": "2023-03-16T01:46:25.199071Z",
     "start_time": "2023-03-16T01:46:13.061414Z"
    }
   },
   "outputs": [
    {
     "name": "stdout",
     "output_type": "stream",
     "text": [
      "Accuracy on training set: 1.0000\n",
      "Accuracy on test set: 0.9348\n"
     ]
    }
   ],
   "source": [
    "forest = RandomForestClassifier(n_estimators=3000, max_features=300, random_state=1) \n",
    "forest.fit(X_train_selected, y_train) \n",
    "print(\"Accuracy on training set: {:.4f}\".format(forest.score(X_train_selected, y_train))) \n",
    "print(\"Accuracy on test set: {:.4f}\".format(forest.score(X_test_selected, y_test)))"
   ]
  },
  {
   "cell_type": "code",
   "execution_count": null,
   "id": "d5d2b2ad",
   "metadata": {},
   "outputs": [],
   "source": []
  }
 ],
 "metadata": {
  "kernelspec": {
   "display_name": "Python 3 (ipykernel)",
   "language": "python",
   "name": "python3"
  },
  "language_info": {
   "codemirror_mode": {
    "name": "ipython",
    "version": 3
   },
   "file_extension": ".py",
   "mimetype": "text/x-python",
   "name": "python",
   "nbconvert_exporter": "python",
   "pygments_lexer": "ipython3",
   "version": "3.9.1"
  },
  "toc": {
   "base_numbering": 1,
   "nav_menu": {},
   "number_sections": true,
   "sideBar": true,
   "skip_h1_title": false,
   "title_cell": "Table of Contents",
   "title_sidebar": "Contents",
   "toc_cell": false,
   "toc_position": {},
   "toc_section_display": true,
   "toc_window_display": false
  },
  "varInspector": {
   "cols": {
    "lenName": 16,
    "lenType": 16,
    "lenVar": 40
   },
   "kernels_config": {
    "python": {
     "delete_cmd_postfix": "",
     "delete_cmd_prefix": "del ",
     "library": "var_list.py",
     "varRefreshCmd": "print(var_dic_list())"
    },
    "r": {
     "delete_cmd_postfix": ") ",
     "delete_cmd_prefix": "rm(",
     "library": "var_list.r",
     "varRefreshCmd": "cat(var_dic_list()) "
    }
   },
   "position": {
    "height": "378.844px",
    "left": "1550px",
    "right": "20px",
    "top": "120px",
    "width": "350px"
   },
   "types_to_exclude": [
    "module",
    "function",
    "builtin_function_or_method",
    "instance",
    "_Feature"
   ],
   "window_display": true
  }
 },
 "nbformat": 4,
 "nbformat_minor": 5
}
