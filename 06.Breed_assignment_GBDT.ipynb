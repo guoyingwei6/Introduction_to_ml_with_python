{
 "cells": [
  {
   "cell_type": "markdown",
   "id": "7804ae61",
   "metadata": {
    "toc": true
   },
   "source": [
    "<h1>Table of Contents<span class=\"tocSkip\"></span></h1>\n",
    "<div class=\"toc\"><ul class=\"toc-item\"></ul></div>"
   ]
  },
  {
   "cell_type": "markdown",
   "id": "528215f4",
   "metadata": {},
   "source": [
    "# 06.品种鉴定——梯度提升回归树 GBRT"
   ]
  },
  {
   "cell_type": "code",
   "execution_count": 1,
   "id": "2fbf31a4",
   "metadata": {
    "ExecuteTime": {
     "end_time": "2023-03-08T03:43:47.527096Z",
     "start_time": "2023-03-08T03:43:46.194626Z"
    }
   },
   "outputs": [],
   "source": [
    "import numpy as np\n",
    "import pandas as pd\n",
    "from sklearn.model_selection import train_test_split \n",
    "from sklearn.metrics import accuracy_score \n",
    "from sklearn.metrics import confusion_matrix \n",
    "from sklearn.ensemble import GradientBoostingClassifier "
   ]
  },
  {
   "cell_type": "code",
   "execution_count": 2,
   "id": "70e3cd4e",
   "metadata": {
    "ExecuteTime": {
     "end_time": "2023-03-08T03:43:49.938542Z",
     "start_time": "2023-03-08T03:43:49.869065Z"
    }
   },
   "outputs": [],
   "source": [
    "# 读取数据\n",
    "ori_df = pd.read_table('data_for_ml', header = None, sep=' ')\n",
    "all_features = ori_df.iloc[:, 1:].values\n",
    "all_labels = ori_df.iloc[:, :1].values.ravel()\n",
    "# 数据分割\n",
    "from sklearn.model_selection import train_test_split \n",
    "X_train, X_test, y_train, y_test = train_test_split( \n",
    "    all_features, all_labels, random_state=0)"
   ]
  },
  {
   "cell_type": "code",
   "execution_count": 4,
   "id": "22f93d9c",
   "metadata": {
    "ExecuteTime": {
     "end_time": "2023-03-08T03:45:50.838169Z",
     "start_time": "2023-03-08T03:45:45.389321Z"
    }
   },
   "outputs": [
    {
     "name": "stdout",
     "output_type": "stream",
     "text": [
      "Accuracy on training set: 1.0000\n",
      "Accuracy on test set: 0.5789\n"
     ]
    }
   ],
   "source": [
    "gbrt = GradientBoostingClassifier(random_state=0) \n",
    "gbrt.fit(X_train, y_train) \n",
    " \n",
    "print(\"Accuracy on training set: {:.4f}\".format(gbrt.score(X_train, y_train))) \n",
    "print(\"Accuracy on test set: {:.4f}\".format(gbrt.score(X_test, y_test)))"
   ]
  },
  {
   "cell_type": "code",
   "execution_count": 11,
   "id": "7beeb954",
   "metadata": {
    "ExecuteTime": {
     "end_time": "2023-03-08T03:51:19.036472Z",
     "start_time": "2023-03-08T03:51:17.068020Z"
    }
   },
   "outputs": [
    {
     "name": "stdout",
     "output_type": "stream",
     "text": [
      "Accuracy on training set: 1.0000\n",
      "Accuracy on test set: 0.5965\n"
     ]
    }
   ],
   "source": [
    "gbrt = GradientBoostingClassifier(random_state=0, max_depth=1) \n",
    "gbrt.fit(X_train, y_train) \n",
    " \n",
    "print(\"Accuracy on training set: {:.4f}\".format(gbrt.score(X_train, y_train))) \n",
    "print(\"Accuracy on test set: {:.4f}\".format(gbrt.score(X_test, y_test)))"
   ]
  },
  {
   "cell_type": "code",
   "execution_count": 7,
   "id": "289d9839",
   "metadata": {
    "ExecuteTime": {
     "end_time": "2023-03-08T03:47:55.316363Z",
     "start_time": "2023-03-08T03:47:49.837910Z"
    }
   },
   "outputs": [
    {
     "name": "stdout",
     "output_type": "stream",
     "text": [
      "Accuracy on training set: 1.0000\n",
      "Accuracy on test set: 0.5789\n"
     ]
    }
   ],
   "source": [
    "gbrt = GradientBoostingClassifier(random_state=0, learning_rate=0.1) \n",
    "gbrt.fit(X_train, y_train) \n",
    " \n",
    "print(\"Accuracy on training set: {:.4f}\".format(gbrt.score(X_train, y_train))) \n",
    "print(\"Accuracy on test set: {:.4f}\".format(gbrt.score(X_test, y_test)))"
   ]
  },
  {
   "cell_type": "code",
   "execution_count": 8,
   "id": "99e81fbb",
   "metadata": {
    "ExecuteTime": {
     "end_time": "2023-03-08T03:48:22.947004Z",
     "start_time": "2023-03-08T03:48:20.855128Z"
    }
   },
   "outputs": [
    {
     "name": "stdout",
     "output_type": "stream",
     "text": [
      "Accuracy on training set: 1.0000\n",
      "Accuracy on test set: 0.5965\n"
     ]
    }
   ],
   "source": [
    "gbrt = GradientBoostingClassifier(random_state=0, max_depth=1, learning_rate=0.1) \n",
    "gbrt.fit(X_train, y_train) \n",
    " \n",
    "print(\"Accuracy on training set: {:.4f}\".format(gbrt.score(X_train, y_train))) \n",
    "print(\"Accuracy on test set: {:.4f}\".format(gbrt.score(X_test, y_test)))"
   ]
  },
  {
   "cell_type": "markdown",
   "id": "3cc9bde4",
   "metadata": {},
   "source": [
    "上述参数是梯度提升回归树目前最好的结果"
   ]
  },
  {
   "cell_type": "code",
   "execution_count": 12,
   "id": "11ff3820",
   "metadata": {
    "ExecuteTime": {
     "end_time": "2023-03-08T07:31:45.052364Z",
     "start_time": "2023-03-08T07:31:44.972354Z"
    }
   },
   "outputs": [
    {
     "name": "stdout",
     "output_type": "stream",
     "text": [
      "(43, 767) (43,)\n",
      "Accuracy on training set: 1.0000\n",
      "Accuracy on test set: 0.9091\n"
     ]
    }
   ],
   "source": [
    "# 用YHC和ZTC两个品种\n",
    "two_breeds_features = ori_df.iloc[184:227, 1:].values\n",
    "two_breeds_labels = ori_df.iloc[184:227, :1].values.ravel()\n",
    "print(two_breeds_features.shape, two_breeds_labels.shape)\n",
    "from sklearn.model_selection import train_test_split \n",
    "X_train, X_test, y_train, y_test = train_test_split( \n",
    "    two_breeds_features, two_breeds_labels, random_state=0)\n",
    "gbrt = GradientBoostingClassifier(random_state=0, max_depth=1, learning_rate=0.1) \n",
    "gbrt.fit(X_train, y_train) \n",
    " \n",
    "print(\"Accuracy on training set: {:.4f}\".format(gbrt.score(X_train, y_train))) \n",
    "print(\"Accuracy on test set: {:.4f}\".format(gbrt.score(X_test, y_test)))"
   ]
  }
 ],
 "metadata": {
  "kernelspec": {
   "display_name": "Python 3 (ipykernel)",
   "language": "python",
   "name": "python3"
  },
  "language_info": {
   "codemirror_mode": {
    "name": "ipython",
    "version": 3
   },
   "file_extension": ".py",
   "mimetype": "text/x-python",
   "name": "python",
   "nbconvert_exporter": "python",
   "pygments_lexer": "ipython3",
   "version": "3.9.1"
  },
  "toc": {
   "base_numbering": 1,
   "nav_menu": {},
   "number_sections": false,
   "sideBar": true,
   "skip_h1_title": true,
   "title_cell": "Table of Contents",
   "title_sidebar": "Contents",
   "toc_cell": true,
   "toc_position": {
    "height": "795px",
    "left": "479px",
    "top": "52px",
    "width": "384px"
   },
   "toc_section_display": true,
   "toc_window_display": true
  },
  "varInspector": {
   "cols": {
    "lenName": 16,
    "lenType": 16,
    "lenVar": 40
   },
   "kernels_config": {
    "python": {
     "delete_cmd_postfix": "",
     "delete_cmd_prefix": "del ",
     "library": "var_list.py",
     "varRefreshCmd": "print(var_dic_list())"
    },
    "r": {
     "delete_cmd_postfix": ") ",
     "delete_cmd_prefix": "rm(",
     "library": "var_list.r",
     "varRefreshCmd": "cat(var_dic_list()) "
    }
   },
   "types_to_exclude": [
    "module",
    "function",
    "builtin_function_or_method",
    "instance",
    "_Feature"
   ],
   "window_display": false
  }
 },
 "nbformat": 4,
 "nbformat_minor": 5
}
