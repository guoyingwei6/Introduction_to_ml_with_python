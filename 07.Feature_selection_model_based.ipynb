{
 "cells": [
  {
   "cell_type": "code",
   "execution_count": 1,
   "id": "7813c03f",
   "metadata": {
    "ExecuteTime": {
     "end_time": "2023-03-16T02:42:54.412504Z",
     "start_time": "2023-03-16T02:42:53.062118Z"
    }
   },
   "outputs": [],
   "source": [
    "import numpy as np\n",
    "import pandas as pd\n",
    "from sklearn.model_selection import train_test_split \n",
    "from sklearn.metrics import accuracy_score \n",
    "from sklearn.metrics import confusion_matrix \n",
    "from sklearn.feature_selection import RFE \n",
    "from sklearn.ensemble import RandomForestClassifier\n",
    "from sklearn.impute import KNNImputer\n",
    "from sklearn.feature_selection import SelectPercentile "
   ]
  },
  {
   "cell_type": "code",
   "execution_count": 2,
   "id": "9dffc8d4",
   "metadata": {
    "ExecuteTime": {
     "end_time": "2023-03-16T02:45:24.643424Z",
     "start_time": "2023-03-16T02:42:55.091499Z"
    }
   },
   "outputs": [],
   "source": [
    "# 读取数据\n",
    "ori_df = pd.read_table('data_for_ml_after_filter', header = None, sep=' ', dtype = 'str')"
   ]
  },
  {
   "cell_type": "code",
   "execution_count": 5,
   "id": "4cd00bdf",
   "metadata": {
    "ExecuteTime": {
     "end_time": "2023-03-16T02:58:26.240393Z",
     "start_time": "2023-03-16T02:58:25.762390Z"
    }
   },
   "outputs": [],
   "source": [
    "# replace nan str to np.nan\n",
    "replace_df = ori_df.replace('nan', np.nan)"
   ]
  },
  {
   "cell_type": "code",
   "execution_count": 6,
   "id": "cd302de0",
   "metadata": {
    "ExecuteTime": {
     "end_time": "2023-03-16T02:58:27.408479Z",
     "start_time": "2023-03-16T02:58:27.402483Z"
    }
   },
   "outputs": [],
   "source": [
    "# 分特征和标签\n",
    "all_features = replace_df.iloc[:, 1:].values\n",
    "all_labels = replace_df.iloc[:, :1].values.ravel()"
   ]
  },
  {
   "cell_type": "code",
   "execution_count": 7,
   "id": "8a5e212c",
   "metadata": {
    "ExecuteTime": {
     "end_time": "2023-03-16T02:59:30.920658Z",
     "start_time": "2023-03-16T02:58:29.515824Z"
    }
   },
   "outputs": [],
   "source": [
    "# impute缺失值\n",
    "imputer = KNNImputer(n_neighbors=5, weights=\"uniform\")\n",
    "all_features_imputed_df=imputer.fit_transform(all_features)"
   ]
  },
  {
   "cell_type": "code",
   "execution_count": 8,
   "id": "283de2ed",
   "metadata": {
    "ExecuteTime": {
     "end_time": "2023-03-16T02:59:40.080961Z",
     "start_time": "2023-03-16T02:59:39.841965Z"
    }
   },
   "outputs": [],
   "source": [
    "# 数据分割\n",
    "from sklearn.model_selection import train_test_split \n",
    "X_train, X_test, y_train, y_test = train_test_split( \n",
    "    all_features_imputed_df, all_labels, random_state=1, test_size=0.2)"
   ]
  },
  {
   "cell_type": "code",
   "execution_count": 20,
   "id": "56278700",
   "metadata": {
    "ExecuteTime": {
     "end_time": "2023-03-16T03:05:44.241354Z",
     "start_time": "2023-03-16T03:05:44.219369Z"
    }
   },
   "outputs": [],
   "source": [
    "from sklearn.feature_selection import SelectFromModel \n",
    "from sklearn.ensemble import RandomForestClassifier \n",
    "select = SelectFromModel( \n",
    "    RandomForestClassifier(n_estimators=3000, random_state=1), \n",
    "    threshold=\"50*median\")"
   ]
  },
  {
   "cell_type": "code",
   "execution_count": 21,
   "id": "1e89626a",
   "metadata": {
    "ExecuteTime": {
     "end_time": "2023-03-16T03:06:29.399014Z",
     "start_time": "2023-03-16T03:05:46.141795Z"
    }
   },
   "outputs": [
    {
     "name": "stdout",
     "output_type": "stream",
     "text": [
      "X_train.shape: (182, 117382)\n",
      "X_train_l1.shape: (182, 794)\n"
     ]
    }
   ],
   "source": [
    "select.fit(X_train, y_train) \n",
    "X_train_l1 = select.transform(X_train) \n",
    "X_test_l1 = select.transform(X_test) \n",
    "print(\"X_train.shape: {}\".format(X_train.shape)) \n",
    "print(\"X_train_l1.shape: {}\".format(X_train_l1.shape))"
   ]
  },
  {
   "cell_type": "code",
   "execution_count": 30,
   "id": "7cb89435",
   "metadata": {
    "ExecuteTime": {
     "end_time": "2023-03-16T03:10:43.888217Z",
     "start_time": "2023-03-16T03:10:31.571240Z"
    }
   },
   "outputs": [
    {
     "name": "stdout",
     "output_type": "stream",
     "text": [
      "Accuracy on training set: 1.0000\n",
      "Accuracy on test set: 0.8913\n"
     ]
    }
   ],
   "source": [
    "forest = RandomForestClassifier(n_estimators=3000, max_features=300, random_state=1) \n",
    "forest.fit(X_train_l1, y_train) \n",
    "print(\"Accuracy on training set: {:.4f}\".format(forest.score(X_train_l1, y_train))) \n",
    "print(\"Accuracy on test set: {:.4f}\".format(forest.score(X_test_l1, y_test)))"
   ]
  },
  {
   "cell_type": "code",
   "execution_count": null,
   "id": "d5d2b2ad",
   "metadata": {},
   "outputs": [],
   "source": []
  }
 ],
 "metadata": {
  "kernelspec": {
   "display_name": "Python 3 (ipykernel)",
   "language": "python",
   "name": "python3"
  },
  "language_info": {
   "codemirror_mode": {
    "name": "ipython",
    "version": 3
   },
   "file_extension": ".py",
   "mimetype": "text/x-python",
   "name": "python",
   "nbconvert_exporter": "python",
   "pygments_lexer": "ipython3",
   "version": "3.9.1"
  },
  "toc": {
   "base_numbering": 1,
   "nav_menu": {},
   "number_sections": true,
   "sideBar": true,
   "skip_h1_title": false,
   "title_cell": "Table of Contents",
   "title_sidebar": "Contents",
   "toc_cell": false,
   "toc_position": {},
   "toc_section_display": true,
   "toc_window_display": false
  },
  "varInspector": {
   "cols": {
    "lenName": 16,
    "lenType": 16,
    "lenVar": 40
   },
   "kernels_config": {
    "python": {
     "delete_cmd_postfix": "",
     "delete_cmd_prefix": "del ",
     "library": "var_list.py",
     "varRefreshCmd": "print(var_dic_list())"
    },
    "r": {
     "delete_cmd_postfix": ") ",
     "delete_cmd_prefix": "rm(",
     "library": "var_list.r",
     "varRefreshCmd": "cat(var_dic_list()) "
    }
   },
   "oldHeight": 356.844,
   "position": {
    "height": "40px",
    "left": "1550px",
    "right": "20px",
    "top": "120px",
    "width": "350px"
   },
   "types_to_exclude": [
    "module",
    "function",
    "builtin_function_or_method",
    "instance",
    "_Feature"
   ],
   "varInspector_section_display": "none",
   "window_display": false
  }
 },
 "nbformat": 4,
 "nbformat_minor": 5
}
