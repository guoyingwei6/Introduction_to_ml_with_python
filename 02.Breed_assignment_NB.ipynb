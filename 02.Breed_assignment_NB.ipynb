{
 "cells": [
  {
   "cell_type": "markdown",
   "id": "c44af689",
   "metadata": {
    "toc": true
   },
   "source": [
    "<h1>Table of Contents<span class=\"tocSkip\"></span></h1>\n",
    "<div class=\"toc\"><ul class=\"toc-item\"></ul></div>"
   ]
  },
  {
   "cell_type": "markdown",
   "id": "dbe69611",
   "metadata": {},
   "source": [
    "# 02.品种鉴定——朴素贝叶斯"
   ]
  },
  {
   "cell_type": "code",
   "execution_count": 33,
   "id": "587e18a9",
   "metadata": {
    "ExecuteTime": {
     "end_time": "2023-02-28T14:58:57.111895Z",
     "start_time": "2023-02-28T14:58:57.104268Z"
    },
    "scrolled": true
   },
   "outputs": [],
   "source": [
    "import numpy as np\n",
    "import pandas as pd\n",
    "from sklearn.model_selection import train_test_split \n",
    "from sklearn.metrics import accuracy_score \n",
    "from sklearn.metrics import confusion_matrix \n",
    "from sklearn.naive_bayes import GaussianNB\n",
    "import matplotlib.pyplot as plt \n",
    "#import mglearn"
   ]
  },
  {
   "cell_type": "code",
   "execution_count": 2,
   "id": "b12e7766",
   "metadata": {
    "ExecuteTime": {
     "end_time": "2023-02-28T12:55:59.360894Z",
     "start_time": "2023-02-28T12:55:59.271935Z"
    }
   },
   "outputs": [],
   "source": [
    "# 读取数据\n",
    "ori_df = pd.read_table('data_for_ml', header = None, sep=' ')\n",
    "all_features = ori_df.iloc[:, 1:].values\n",
    "all_labels = ori_df.iloc[:, :1].values.ravel()"
   ]
  },
  {
   "cell_type": "code",
   "execution_count": 17,
   "id": "7ece002c",
   "metadata": {
    "ExecuteTime": {
     "end_time": "2023-02-28T14:11:07.810707Z",
     "start_time": "2023-02-28T14:11:07.798503Z"
    }
   },
   "outputs": [
    {
     "name": "stdout",
     "output_type": "stream",
     "text": [
      "X_train shape: (171, 767)\n",
      "y_train shape: (171,)\n",
      "X_test shape: (57, 767)\n",
      "y_test shape: (57,)\n"
     ]
    }
   ],
   "source": [
    "# 数据分割\n",
    "from sklearn.model_selection import train_test_split \n",
    "X_train, X_test, y_train, y_test = train_test_split( \n",
    "    all_features, all_labels, random_state=0)\n",
    "print(\"X_train shape: {}\".format(X_train.shape)) \n",
    "print(\"y_train shape: {}\".format(y_train.shape))\n",
    "print(\"X_test shape: {}\".format(X_test.shape)) \n",
    "print(\"y_test shape: {}\".format(y_test.shape))"
   ]
  },
  {
   "cell_type": "code",
   "execution_count": 18,
   "id": "8196c7f9",
   "metadata": {
    "ExecuteTime": {
     "end_time": "2023-02-28T14:11:10.760704Z",
     "start_time": "2023-02-28T14:11:10.741934Z"
    }
   },
   "outputs": [
    {
     "data": {
      "text/plain": [
       "GaussianNB()"
      ]
     },
     "execution_count": 18,
     "metadata": {},
     "output_type": "execute_result"
    }
   ],
   "source": [
    "# train\n",
    "from sklearn.naive_bayes import GaussianNB\n",
    "gnb = GaussianNB()\n",
    "gnb.fit(X_train, y_train)"
   ]
  },
  {
   "cell_type": "code",
   "execution_count": 21,
   "id": "c6d346e4",
   "metadata": {
    "ExecuteTime": {
     "end_time": "2023-02-28T14:13:17.090115Z",
     "start_time": "2023-02-28T14:13:17.072753Z"
    },
    "scrolled": true
   },
   "outputs": [
    {
     "name": "stdout",
     "output_type": "stream",
     "text": [
      "Test set predictions:\n",
      " [ 3  4  6  6  7  7 10  6 10  9  7  3  3  1  6  3  7  1  1  8  8  7 10 10\n",
      "  7  3  6  2  1  3  9  3  6  3  7  6  3  8  6  7 10  3  7  6  3  9  7  3\n",
      "  3  6  7  6  9  6  1  3  7]\n",
      "Test set score: 0.4386\n",
      "Confusion matrix:\n",
      "[[4 0 1 0 0 2 0 0 0 0]\n",
      " [1 1 0 0 0 0 1 0 0 0]\n",
      " [0 0 4 0 0 0 0 0 0 0]\n",
      " [0 0 0 0 0 2 0 0 0 0]\n",
      " [0 0 2 0 0 0 8 0 0 0]\n",
      " [0 0 0 0 0 3 0 0 0 0]\n",
      " [0 0 6 0 0 2 3 0 0 0]\n",
      " [0 0 0 0 0 0 0 3 2 0]\n",
      " [0 0 0 1 0 3 0 0 2 0]\n",
      " [0 0 1 0 0 0 0 0 0 5]]\n"
     ]
    }
   ],
   "source": [
    "# test\n",
    "y_pred = gnb.predict(X_test) \n",
    "print(\"Test set predictions:\\n {}\".format(y_pred))\n",
    "print(\"Test set score: {:.4f}\".format(np.mean(y_pred == y_test)))\n",
    "print(\"Confusion matrix:\\n{}\".format(confusion_matrix(y_test, y_pred)))"
   ]
  },
  {
   "cell_type": "code",
   "execution_count": 34,
   "id": "c136748f",
   "metadata": {
    "ExecuteTime": {
     "end_time": "2023-02-28T14:59:00.672208Z",
     "start_time": "2023-02-28T14:59:00.650388Z"
    }
   },
   "outputs": [
    {
     "name": "stdout",
     "output_type": "stream",
     "text": [
      "(43, 767) (43,)\n",
      "Test set predictions:\n",
      " [10 10 10  9  9 10 10  9 10 10 10]\n",
      "Test set score: 1.0000\n"
     ]
    }
   ],
   "source": [
    "# 用YHC和ZTC两个品种\n",
    "two_breeds_features = ori_df.iloc[184:227, 1:].values\n",
    "two_breeds_labels = ori_df.iloc[184:227, :1].values.ravel()\n",
    "print(two_breeds_features.shape, two_breeds_labels.shape)\n",
    "from sklearn.model_selection import train_test_split \n",
    "X_train, X_test, y_train, y_test = train_test_split( \n",
    "    two_breeds_features, two_breeds_labels, random_state=0)\n",
    "gnb = GaussianNB()\n",
    "gnb.fit(X_train, y_train)\n",
    "y_pred = gnb.predict(X_test) \n",
    "print(\"Test set predictions:\\n {}\".format(y_pred))\n",
    "print(\"Test set score: {:.4f}\".format(np.mean(y_pred == y_test)))"
   ]
  }
 ],
 "metadata": {
  "kernelspec": {
   "display_name": "Python 3 (ipykernel)",
   "language": "python",
   "name": "python3"
  },
  "language_info": {
   "codemirror_mode": {
    "name": "ipython",
    "version": 3
   },
   "file_extension": ".py",
   "mimetype": "text/x-python",
   "name": "python",
   "nbconvert_exporter": "python",
   "pygments_lexer": "ipython3",
   "version": "3.7.6"
  },
  "toc": {
   "base_numbering": 1,
   "nav_menu": {},
   "number_sections": false,
   "sideBar": true,
   "skip_h1_title": true,
   "title_cell": "Table of Contents",
   "title_sidebar": "Contents",
   "toc_cell": true,
   "toc_position": {
    "height": "calc(100% - 180px)",
    "left": "10px",
    "top": "150px",
    "width": "222px"
   },
   "toc_section_display": true,
   "toc_window_display": true
  },
  "varInspector": {
   "cols": {
    "lenName": 16,
    "lenType": 16,
    "lenVar": 40
   },
   "kernels_config": {
    "python": {
     "delete_cmd_postfix": "",
     "delete_cmd_prefix": "del ",
     "library": "var_list.py",
     "varRefreshCmd": "print(var_dic_list())"
    },
    "r": {
     "delete_cmd_postfix": ") ",
     "delete_cmd_prefix": "rm(",
     "library": "var_list.r",
     "varRefreshCmd": "cat(var_dic_list()) "
    }
   },
   "position": {
    "height": "421.844px",
    "left": "1392px",
    "right": "20px",
    "top": "124px",
    "width": "512px"
   },
   "types_to_exclude": [
    "module",
    "function",
    "builtin_function_or_method",
    "instance",
    "_Feature"
   ],
   "window_display": true
  }
 },
 "nbformat": 4,
 "nbformat_minor": 5
}
