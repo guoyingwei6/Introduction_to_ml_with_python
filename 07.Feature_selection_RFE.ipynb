{
 "cells": [
  {
   "cell_type": "code",
   "execution_count": null,
   "id": "f6d5b976",
   "metadata": {
    "ExecuteTime": {
     "end_time": "2023-03-16T11:38:01.909396Z",
     "start_time": "2023-03-16T11:38:01.909396Z"
    }
   },
   "outputs": [],
   "source": [
    "import numpy as np\n",
    "import pandas as pd\n",
    "from sklearn.model_selection import train_test_split \n",
    "from sklearn.metrics import accuracy_score \n",
    "from sklearn.metrics import confusion_matrix \n",
    "from sklearn.feature_selection import RFE \n",
    "from sklearn.ensemble import RandomForestClassifier\n",
    "from sklearn.impute import KNNImputer"
   ]
  },
  {
   "cell_type": "code",
   "execution_count": null,
   "id": "9840c27d",
   "metadata": {
    "ExecuteTime": {
     "end_time": "2023-03-16T11:38:01.913390Z",
     "start_time": "2023-03-16T11:38:01.913390Z"
    }
   },
   "outputs": [],
   "source": [
    "# 读取数据\n",
    "ori_df = pd.read_table('data_for_ml_after_filter', header = None, sep=' ', dtype = 'str')"
   ]
  },
  {
   "cell_type": "code",
   "execution_count": 59,
   "id": "2432c0c8",
   "metadata": {
    "ExecuteTime": {
     "end_time": "2023-03-15T15:19:51.738935Z",
     "start_time": "2023-03-15T15:19:51.362357Z"
    }
   },
   "outputs": [],
   "source": [
    "# replace nan str to np.nan\n",
    "replace_df = ori_df.replace('nan', np.nan)"
   ]
  },
  {
   "cell_type": "code",
   "execution_count": 62,
   "id": "81d83286",
   "metadata": {
    "ExecuteTime": {
     "end_time": "2023-03-15T15:20:13.810038Z",
     "start_time": "2023-03-15T15:20:13.805050Z"
    }
   },
   "outputs": [],
   "source": [
    "# 分特征和标签\n",
    "all_features = replace_df.iloc[:, 1:].values\n",
    "all_labels = replace_df.iloc[:, :1].values.ravel()"
   ]
  },
  {
   "cell_type": "code",
   "execution_count": 70,
   "id": "fd6f0caa",
   "metadata": {
    "ExecuteTime": {
     "end_time": "2023-03-15T15:22:37.902916Z",
     "start_time": "2023-03-15T15:22:37.883919Z"
    }
   },
   "outputs": [
    {
     "data": {
      "text/plain": [
       "True"
      ]
     },
     "execution_count": 70,
     "metadata": {},
     "output_type": "execute_result"
    }
   ],
   "source": [
    "pd.isna(all_features[25,0])"
   ]
  },
  {
   "cell_type": "code",
   "execution_count": 71,
   "id": "11f801d1",
   "metadata": {
    "ExecuteTime": {
     "end_time": "2023-03-15T15:23:41.856322Z",
     "start_time": "2023-03-15T15:22:40.836485Z"
    }
   },
   "outputs": [],
   "source": [
    "# impute缺失值\n",
    "imputer = KNNImputer(n_neighbors=5, weights=\"uniform\")\n",
    "imputed_df=imputer.fit_transform(all_features)"
   ]
  },
  {
   "cell_type": "code",
   "execution_count": 76,
   "id": "11ba3e04",
   "metadata": {
    "ExecuteTime": {
     "end_time": "2023-03-15T15:26:25.605675Z",
     "start_time": "2023-03-15T15:26:25.587649Z"
    }
   },
   "outputs": [
    {
     "data": {
      "text/plain": [
       "0.0"
      ]
     },
     "execution_count": 76,
     "metadata": {},
     "output_type": "execute_result"
    }
   ],
   "source": [
    "imputed_df[25,0]"
   ]
  },
  {
   "cell_type": "code",
   "execution_count": 79,
   "id": "d5887fbc",
   "metadata": {
    "ExecuteTime": {
     "end_time": "2023-03-15T15:27:33.335815Z",
     "start_time": "2023-03-15T15:27:33.115795Z"
    }
   },
   "outputs": [],
   "source": [
    "# 数据分割\n",
    "from sklearn.model_selection import train_test_split \n",
    "X_train, X_test, y_train, y_test = train_test_split( \n",
    "    imputed_df, all_labels, random_state=1, test_size=0.25)"
   ]
  },
  {
   "cell_type": "code",
   "execution_count": 80,
   "id": "561fb374",
   "metadata": {
    "ExecuteTime": {
     "end_time": "2023-03-16T11:38:01.873401Z",
     "start_time": "2023-03-15T15:27:35.203554Z"
    }
   },
   "outputs": [
    {
     "data": {
      "text/plain": [
       "RFE(estimator=RandomForestClassifier(random_state=1), n_features_to_select=770)"
      ]
     },
     "execution_count": 80,
     "metadata": {},
     "output_type": "execute_result"
    }
   ],
   "source": [
    "# feature selection\n",
    "select = RFE(RandomForestClassifier(n_estimators=100, random_state=1), \n",
    "             n_features_to_select=770) \n",
    "select.fit(X_train, y_train) "
   ]
  },
  {
   "cell_type": "code",
   "execution_count": 81,
   "id": "690e9223",
   "metadata": {
    "ExecuteTime": {
     "end_time": "2023-03-16T13:14:19.121231Z",
     "start_time": "2023-03-16T13:14:18.703039Z"
    }
   },
   "outputs": [],
   "source": [
    "X_train_rfe= select.transform(X_train) \n",
    "X_test_rfe= select.transform(X_test) "
   ]
  },
  {
   "cell_type": "code",
   "execution_count": 84,
   "id": "93d9ddab",
   "metadata": {
    "ExecuteTime": {
     "end_time": "2023-03-16T13:16:30.374199Z",
     "start_time": "2023-03-16T13:15:35.091340Z"
    }
   },
   "outputs": [
    {
     "name": "stdout",
     "output_type": "stream",
     "text": [
      "Accuracy on training set: 1.0000\n",
      "Accuracy on test set: 0.8070\n"
     ]
    }
   ],
   "source": [
    "forest = RandomForestClassifier(n_estimators=5000, max_features=500, random_state=1) \n",
    "forest.fit(X_train_rfe, y_train) \n",
    "print(\"Accuracy on training set: {:.4f}\".format(forest.score(X_train_rfe, y_train))) \n",
    "print(\"Accuracy on test set: {:.4f}\".format(forest.score(X_test_rfe, y_test)))"
   ]
  },
  {
   "cell_type": "code",
   "execution_count": null,
   "id": "0e0acaa4",
   "metadata": {},
   "outputs": [],
   "source": []
  }
 ],
 "metadata": {
  "kernelspec": {
   "display_name": "Python 3 (ipykernel)",
   "language": "python",
   "name": "python3"
  },
  "language_info": {
   "codemirror_mode": {
    "name": "ipython",
    "version": 3
   },
   "file_extension": ".py",
   "mimetype": "text/x-python",
   "name": "python",
   "nbconvert_exporter": "python",
   "pygments_lexer": "ipython3",
   "version": "3.9.1"
  },
  "toc": {
   "base_numbering": 1,
   "nav_menu": {},
   "number_sections": true,
   "sideBar": true,
   "skip_h1_title": false,
   "title_cell": "Table of Contents",
   "title_sidebar": "Contents",
   "toc_cell": false,
   "toc_position": {},
   "toc_section_display": true,
   "toc_window_display": false
  },
  "varInspector": {
   "cols": {
    "lenName": 16,
    "lenType": 16,
    "lenVar": 40
   },
   "kernels_config": {
    "python": {
     "delete_cmd_postfix": "",
     "delete_cmd_prefix": "del ",
     "library": "var_list.py",
     "varRefreshCmd": "print(var_dic_list())"
    },
    "r": {
     "delete_cmd_postfix": ") ",
     "delete_cmd_prefix": "rm(",
     "library": "var_list.r",
     "varRefreshCmd": "cat(var_dic_list()) "
    }
   },
   "position": {
    "height": "378.844px",
    "left": "1550px",
    "right": "20px",
    "top": "120px",
    "width": "350px"
   },
   "types_to_exclude": [
    "module",
    "function",
    "builtin_function_or_method",
    "instance",
    "_Feature"
   ],
   "window_display": false
  }
 },
 "nbformat": 4,
 "nbformat_minor": 5
}
