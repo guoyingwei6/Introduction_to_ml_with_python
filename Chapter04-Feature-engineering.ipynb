{
 "cells": [
  {
   "cell_type": "markdown",
   "id": "eaf7a0a5",
   "metadata": {
    "toc": true
   },
   "source": [
    "<h1>Table of Contents<span class=\"tocSkip\"></span></h1>\n",
    "<div class=\"toc\"><ul class=\"toc-item\"><li><span><a href=\"#4.1　分类变量\" data-toc-modified-id=\"4.1　分类变量-1\">4.1　分类变量</a></span><ul class=\"toc-item\"><li><span><a href=\"#4.1.1　One-Hot编码（虚拟变量）\" data-toc-modified-id=\"4.1.1　One-Hot编码（虚拟变量）-1.1\">4.1.1　One-Hot编码（虚拟变量）</a></span></li><li><span><a href=\"#4.1.2　数字可以编码分类变量\" data-toc-modified-id=\"4.1.2　数字可以编码分类变量-1.2\">4.1.2　数字可以编码分类变量</a></span></li></ul></li><li><span><a href=\"#4.2　分箱、离散化、线性模型与树\" data-toc-modified-id=\"4.2　分箱、离散化、线性模型与树-2\">4.2　分箱、离散化、线性模型与树</a></span></li><li><span><a href=\"#4.3　交互特征与多项式特征\" data-toc-modified-id=\"4.3　交互特征与多项式特征-3\">4.3　交互特征与多项式特征</a></span></li><li><span><a href=\"#4.4　单变量非线性变换\" data-toc-modified-id=\"4.4　单变量非线性变换-4\">4.4　单变量非线性变换</a></span></li><li><span><a href=\"#4.5　自动化特征选择\" data-toc-modified-id=\"4.5　自动化特征选择-5\">4.5　自动化特征选择</a></span><ul class=\"toc-item\"><li><span><a href=\"#4.5.1　单变量统计\" data-toc-modified-id=\"4.5.1　单变量统计-5.1\">4.5.1　单变量统计</a></span></li><li><span><a href=\"#4.5.2　基于模型的特征选择\" data-toc-modified-id=\"4.5.2　基于模型的特征选择-5.2\">4.5.2　基于模型的特征选择</a></span></li><li><span><a href=\"#4.5.3　迭代特征选择\" data-toc-modified-id=\"4.5.3　迭代特征选择-5.3\">4.5.3　迭代特征选择</a></span></li></ul></li><li><span><a href=\"#4.6　利用专家知识\" data-toc-modified-id=\"4.6　利用专家知识-6\">4.6　利用专家知识</a></span></li></ul></div>"
   ]
  },
  {
   "cell_type": "markdown",
   "id": "9c489c66",
   "metadata": {},
   "source": [
    "# 第4章 数据表示和特征工程"
   ]
  },
  {
   "cell_type": "markdown",
   "id": "056a4144",
   "metadata": {},
   "source": [
    "对于某个特定应用来说，如何找到最佳数据表示，这个问题被称为特征工程（feature \n",
    "engineering），它是数据科学家和机器学习从业者在尝试解决现实世界问题时的主要任务之\n",
    "一。用正确的方式表示数据，对监督模型性能的影响比所选择的精确参数还要大。"
   ]
  },
  {
   "cell_type": "code",
   "execution_count": 2,
   "id": "470aac07",
   "metadata": {
    "ExecuteTime": {
     "end_time": "2023-03-15T03:36:58.223208Z",
     "start_time": "2023-03-15T03:36:56.853253Z"
    }
   },
   "outputs": [],
   "source": [
    "import numpy as np \n",
    "import pandas as pd "
   ]
  },
  {
   "cell_type": "markdown",
   "id": "bdb2aef9",
   "metadata": {},
   "source": [
    "## 4.1　分类变量"
   ]
  },
  {
   "cell_type": "markdown",
   "id": "19d83c65",
   "metadata": {},
   "source": [
    "### 4.1.1　One-Hot编码（虚拟变量）"
   ]
  },
  {
   "cell_type": "markdown",
   "id": "a0cde10f",
   "metadata": {},
   "source": [
    "到目前为止，表示分类变量最常用的方法就是使用 one-hot 编码（one-hot-encoding）或\n",
    "N 取一编码（one-out-of-N encoding），也叫虚拟变量（dummy variable）。"
   ]
  },
  {
   "cell_type": "markdown",
   "id": "3d70bfc2",
   "metadata": {},
   "source": [
    "> 将输出变量或输出变量的一些导出属性包含在特征表\n",
    "示中，这是构建监督机器学习模型时一个非常常见的错误。"
   ]
  },
  {
   "cell_type": "markdown",
   "id": "7311cd06",
   "metadata": {},
   "source": [
    "> 我们使用的 one-hot 编码与统计学中使用的虚拟编码（dummy encoding）非\n",
    "常相似，但并不完全相同。为简单起见，我们将每个类别编码为不同的二元\n",
    "特征。在统计学中，通常将具有 k 个可能取值的分类特征编码为 k-1 个特征\n",
    "（都等于零表示最后一个可能取值）。这么做是为了简化分析（更专业的说法\n",
    "是，这可以避免使数据矩阵秩亏）。"
   ]
  },
  {
   "cell_type": "markdown",
   "id": "743a0b49",
   "metadata": {},
   "source": [
    "### 4.1.2　数字可以编码分类变量"
   ]
  },
  {
   "cell_type": "markdown",
   "id": "c9f45398",
   "metadata": {},
   "source": [
    "pandas 的 get_dummies 函数将所有数字看作是连续的，不会为其创建虚拟变量。为了解决\n",
    "这个问题，你可以使用 scikit-learn 的 <span class=\"mark\">OneHotEncoder</span>，指定哪些变量是连续的、哪些变\n",
    "量是离散的，你也可以将数据框中的数值列转换为字符串。为了说明这一点，我们创建一\n",
    "个两列的 DataFrame 对象，其中一列包含字符串，另一列包含整数："
   ]
  },
  {
   "cell_type": "code",
   "execution_count": 3,
   "id": "e3f2891d",
   "metadata": {
    "ExecuteTime": {
     "end_time": "2023-03-15T03:36:59.861670Z",
     "start_time": "2023-03-15T03:36:59.836682Z"
    }
   },
   "outputs": [
    {
     "data": {
      "text/html": [
       "<div>\n",
       "<style scoped>\n",
       "    .dataframe tbody tr th:only-of-type {\n",
       "        vertical-align: middle;\n",
       "    }\n",
       "\n",
       "    .dataframe tbody tr th {\n",
       "        vertical-align: top;\n",
       "    }\n",
       "\n",
       "    .dataframe thead th {\n",
       "        text-align: right;\n",
       "    }\n",
       "</style>\n",
       "<table border=\"1\" class=\"dataframe\">\n",
       "  <thead>\n",
       "    <tr style=\"text-align: right;\">\n",
       "      <th></th>\n",
       "      <th>Integer Feature</th>\n",
       "      <th>Categorical Feature</th>\n",
       "    </tr>\n",
       "  </thead>\n",
       "  <tbody>\n",
       "    <tr>\n",
       "      <th>0</th>\n",
       "      <td>0</td>\n",
       "      <td>socks</td>\n",
       "    </tr>\n",
       "    <tr>\n",
       "      <th>1</th>\n",
       "      <td>1</td>\n",
       "      <td>fox</td>\n",
       "    </tr>\n",
       "    <tr>\n",
       "      <th>2</th>\n",
       "      <td>2</td>\n",
       "      <td>socks</td>\n",
       "    </tr>\n",
       "    <tr>\n",
       "      <th>3</th>\n",
       "      <td>1</td>\n",
       "      <td>box</td>\n",
       "    </tr>\n",
       "  </tbody>\n",
       "</table>\n",
       "</div>"
      ],
      "text/plain": [
       "   Integer Feature Categorical Feature\n",
       "0                0               socks\n",
       "1                1                 fox\n",
       "2                2               socks\n",
       "3                1                 box"
      ]
     },
     "metadata": {},
     "output_type": "display_data"
    }
   ],
   "source": [
    "# 创建一个DataFrame，包含一个整数特征和一个分类字符串特征 \n",
    "demo_df = pd.DataFrame({'Integer Feature': [0, 1, 2, 1], \n",
    "                        'Categorical Feature': ['socks', 'fox', 'socks', 'box']}) \n",
    "display(demo_df)"
   ]
  },
  {
   "cell_type": "code",
   "execution_count": 4,
   "id": "be9829bc",
   "metadata": {
    "ExecuteTime": {
     "end_time": "2023-03-15T03:37:12.457119Z",
     "start_time": "2023-03-15T03:37:12.437134Z"
    }
   },
   "outputs": [
    {
     "data": {
      "text/html": [
       "<div>\n",
       "<style scoped>\n",
       "    .dataframe tbody tr th:only-of-type {\n",
       "        vertical-align: middle;\n",
       "    }\n",
       "\n",
       "    .dataframe tbody tr th {\n",
       "        vertical-align: top;\n",
       "    }\n",
       "\n",
       "    .dataframe thead th {\n",
       "        text-align: right;\n",
       "    }\n",
       "</style>\n",
       "<table border=\"1\" class=\"dataframe\">\n",
       "  <thead>\n",
       "    <tr style=\"text-align: right;\">\n",
       "      <th></th>\n",
       "      <th>Integer Feature</th>\n",
       "      <th>Categorical Feature_box</th>\n",
       "      <th>Categorical Feature_fox</th>\n",
       "      <th>Categorical Feature_socks</th>\n",
       "    </tr>\n",
       "  </thead>\n",
       "  <tbody>\n",
       "    <tr>\n",
       "      <th>0</th>\n",
       "      <td>0</td>\n",
       "      <td>0</td>\n",
       "      <td>0</td>\n",
       "      <td>1</td>\n",
       "    </tr>\n",
       "    <tr>\n",
       "      <th>1</th>\n",
       "      <td>1</td>\n",
       "      <td>0</td>\n",
       "      <td>1</td>\n",
       "      <td>0</td>\n",
       "    </tr>\n",
       "    <tr>\n",
       "      <th>2</th>\n",
       "      <td>2</td>\n",
       "      <td>0</td>\n",
       "      <td>0</td>\n",
       "      <td>1</td>\n",
       "    </tr>\n",
       "    <tr>\n",
       "      <th>3</th>\n",
       "      <td>1</td>\n",
       "      <td>1</td>\n",
       "      <td>0</td>\n",
       "      <td>0</td>\n",
       "    </tr>\n",
       "  </tbody>\n",
       "</table>\n",
       "</div>"
      ],
      "text/plain": [
       "   Integer Feature  Categorical Feature_box  Categorical Feature_fox  \\\n",
       "0                0                        0                        0   \n",
       "1                1                        0                        1   \n",
       "2                2                        0                        0   \n",
       "3                1                        1                        0   \n",
       "\n",
       "   Categorical Feature_socks  \n",
       "0                          1  \n",
       "1                          0  \n",
       "2                          1  \n",
       "3                          0  "
      ]
     },
     "execution_count": 4,
     "metadata": {},
     "output_type": "execute_result"
    }
   ],
   "source": [
    "pd.get_dummies(demo_df)"
   ]
  },
  {
   "cell_type": "code",
   "execution_count": 5,
   "id": "d3005183",
   "metadata": {
    "ExecuteTime": {
     "end_time": "2023-03-15T03:37:47.996747Z",
     "start_time": "2023-03-15T03:37:47.972741Z"
    }
   },
   "outputs": [
    {
     "data": {
      "text/html": [
       "<div>\n",
       "<style scoped>\n",
       "    .dataframe tbody tr th:only-of-type {\n",
       "        vertical-align: middle;\n",
       "    }\n",
       "\n",
       "    .dataframe tbody tr th {\n",
       "        vertical-align: top;\n",
       "    }\n",
       "\n",
       "    .dataframe thead th {\n",
       "        text-align: right;\n",
       "    }\n",
       "</style>\n",
       "<table border=\"1\" class=\"dataframe\">\n",
       "  <thead>\n",
       "    <tr style=\"text-align: right;\">\n",
       "      <th></th>\n",
       "      <th>Integer Feature_0</th>\n",
       "      <th>Integer Feature_1</th>\n",
       "      <th>Integer Feature_2</th>\n",
       "      <th>Categorical Feature_box</th>\n",
       "      <th>Categorical Feature_fox</th>\n",
       "      <th>Categorical Feature_socks</th>\n",
       "    </tr>\n",
       "  </thead>\n",
       "  <tbody>\n",
       "    <tr>\n",
       "      <th>0</th>\n",
       "      <td>1</td>\n",
       "      <td>0</td>\n",
       "      <td>0</td>\n",
       "      <td>0</td>\n",
       "      <td>0</td>\n",
       "      <td>1</td>\n",
       "    </tr>\n",
       "    <tr>\n",
       "      <th>1</th>\n",
       "      <td>0</td>\n",
       "      <td>1</td>\n",
       "      <td>0</td>\n",
       "      <td>0</td>\n",
       "      <td>1</td>\n",
       "      <td>0</td>\n",
       "    </tr>\n",
       "    <tr>\n",
       "      <th>2</th>\n",
       "      <td>0</td>\n",
       "      <td>0</td>\n",
       "      <td>1</td>\n",
       "      <td>0</td>\n",
       "      <td>0</td>\n",
       "      <td>1</td>\n",
       "    </tr>\n",
       "    <tr>\n",
       "      <th>3</th>\n",
       "      <td>0</td>\n",
       "      <td>1</td>\n",
       "      <td>0</td>\n",
       "      <td>1</td>\n",
       "      <td>0</td>\n",
       "      <td>0</td>\n",
       "    </tr>\n",
       "  </tbody>\n",
       "</table>\n",
       "</div>"
      ],
      "text/plain": [
       "   Integer Feature_0  Integer Feature_1  Integer Feature_2  \\\n",
       "0                  1                  0                  0   \n",
       "1                  0                  1                  0   \n",
       "2                  0                  0                  1   \n",
       "3                  0                  1                  0   \n",
       "\n",
       "   Categorical Feature_box  Categorical Feature_fox  Categorical Feature_socks  \n",
       "0                        0                        0                          1  \n",
       "1                        0                        1                          0  \n",
       "2                        0                        0                          1  \n",
       "3                        1                        0                          0  "
      ]
     },
     "execution_count": 5,
     "metadata": {},
     "output_type": "execute_result"
    }
   ],
   "source": [
    "demo_df['Integer Feature'] = demo_df['Integer Feature'].astype(str) \n",
    "pd.get_dummies(demo_df, columns=['Integer Feature', 'Categorical Feature'])"
   ]
  },
  {
   "cell_type": "markdown",
   "id": "0813dcc8",
   "metadata": {},
   "source": [
    "## 4.2　分箱、离散化、线性模型与树"
   ]
  },
  {
   "cell_type": "code",
   "execution_count": 8,
   "id": "69dcb00e",
   "metadata": {
    "ExecuteTime": {
     "end_time": "2023-03-15T06:58:13.536309Z",
     "start_time": "2023-03-15T06:58:13.380338Z"
    },
    "scrolled": true
   },
   "outputs": [
    {
     "data": {
      "text/plain": [
       "<matplotlib.legend.Legend at 0x285d9c38b80>"
      ]
     },
     "execution_count": 8,
     "metadata": {},
     "output_type": "execute_result"
    },
    {
     "data": {
      "image/png": "[encoded data removed]",
      "text/plain": [
       "<Figure size 432x288 with 1 Axes>"
      ]
     },
     "metadata": {
      "needs_background": "light"
     },
     "output_type": "display_data"
    }
   ],
   "source": [
    "import mglearn\n",
    "import matplotlib.pyplot as plt \n",
    "from sklearn.linear_model import LinearRegression \n",
    "from sklearn.tree import DecisionTreeRegressor \n",
    " \n",
    "X, y = mglearn.datasets.make_wave(n_samples=100) \n",
    "line = np.linspace(-3, 3, 1000, endpoint=False).reshape(-1, 1) \n",
    "reg = DecisionTreeRegressor(min_samples_split=3).fit(X, y) \n",
    "plt.plot(line, reg.predict(line), label=\"decision tree\") \n",
    " \n",
    "reg = LinearRegression().fit(X, y) \n",
    "plt.plot(line, reg.predict(line), label=\"linear regression\") \n",
    " \n",
    "plt.plot(X[:, 0], y, 'o', c='k') \n",
    "plt.ylabel(\"Regression output\") \n",
    "plt.xlabel(\"Input feature\") \n",
    "plt.legend(loc=\"best\")"
   ]
  },
  {
   "cell_type": "markdown",
   "id": "3ee98060",
   "metadata": {},
   "source": [
    "正如你所知，线性模型只能对线性关系建模，对于单个特征的情况就是直线。决策树可以\n",
    "构建更为复杂的数据模型，但这强烈依赖于数据表示。有一种方法可以让线性模型在连续\n",
    "数据上变得更加强大，就是使用特征<span class=\"mark\">分箱</span>（binning，也叫离散化，即 discretization）将其\n",
    "划分为多个特征，如下所述。"
   ]
  },
  {
   "cell_type": "code",
   "execution_count": 9,
   "id": "7233c230",
   "metadata": {
    "ExecuteTime": {
     "end_time": "2023-03-15T06:59:47.382412Z",
     "start_time": "2023-03-15T06:59:47.370420Z"
    }
   },
   "outputs": [
    {
     "name": "stdout",
     "output_type": "stream",
     "text": [
      "bins: [-3.  -2.4 -1.8 -1.2 -0.6  0.   0.6  1.2  1.8  2.4  3. ]\n"
     ]
    }
   ],
   "source": [
    "bins = np.linspace(-3, 3, 11) \n",
    "print(\"bins: {}\".format(bins))"
   ]
  },
  {
   "cell_type": "code",
   "execution_count": 10,
   "id": "2102111a",
   "metadata": {
    "ExecuteTime": {
     "end_time": "2023-03-15T07:00:05.314475Z",
     "start_time": "2023-03-15T07:00:05.306486Z"
    },
    "scrolled": true
   },
   "outputs": [
    {
     "name": "stdout",
     "output_type": "stream",
     "text": [
      "\n",
      "Data points:\n",
      " [[-0.75275929]\n",
      " [ 2.70428584]\n",
      " [ 1.39196365]\n",
      " [ 0.59195091]\n",
      " [-2.06388816]]\n",
      "\n",
      "Bin membership for data points:\n",
      " [[ 4]\n",
      " [10]\n",
      " [ 8]\n",
      " [ 6]\n",
      " [ 2]]\n"
     ]
    }
   ],
   "source": [
    "which_bin = np.digitize(X, bins=bins) \n",
    "print(\"\\nData points:\\n\", X[:5]) \n",
    "print(\"\\nBin membership for data points:\\n\", which_bin[:5])"
   ]
  },
  {
   "cell_type": "code",
   "execution_count": 11,
   "id": "f32791f4",
   "metadata": {
    "ExecuteTime": {
     "end_time": "2023-03-15T07:07:37.072203Z",
     "start_time": "2023-03-15T07:07:37.052176Z"
    },
    "scrolled": true
   },
   "outputs": [
    {
     "name": "stdout",
     "output_type": "stream",
     "text": [
      "[[0. 0. 0. 1. 0. 0. 0. 0. 0. 0.]\n",
      " [0. 0. 0. 0. 0. 0. 0. 0. 0. 1.]\n",
      " [0. 0. 0. 0. 0. 0. 0. 1. 0. 0.]\n",
      " [0. 0. 0. 0. 0. 1. 0. 0. 0. 0.]\n",
      " [0. 1. 0. 0. 0. 0. 0. 0. 0. 0.]]\n"
     ]
    }
   ],
   "source": [
    "from sklearn.preprocessing import OneHotEncoder \n",
    "# 使用OneHotEncoder进行变换 \n",
    "encoder = OneHotEncoder(sparse=False) \n",
    "# encoder.fit找到which_bin中的唯一值 \n",
    "encoder.fit(which_bin) \n",
    "# transform创建one-hot编码 \n",
    "X_binned = encoder.transform(which_bin) \n",
    "print(X_binned[:5])"
   ]
  },
  {
   "cell_type": "code",
   "execution_count": 12,
   "id": "52518b36",
   "metadata": {
    "ExecuteTime": {
     "end_time": "2023-03-15T07:08:07.774934Z",
     "start_time": "2023-03-15T07:08:07.764296Z"
    }
   },
   "outputs": [
    {
     "name": "stdout",
     "output_type": "stream",
     "text": [
      "X_binned.shape: (100, 10)\n"
     ]
    }
   ],
   "source": [
    "print(\"X_binned.shape: {}\".format(X_binned.shape))"
   ]
  },
  {
   "cell_type": "code",
   "execution_count": 13,
   "id": "db4f8629",
   "metadata": {
    "ExecuteTime": {
     "end_time": "2023-03-15T07:08:21.843586Z",
     "start_time": "2023-03-15T07:08:21.715721Z"
    }
   },
   "outputs": [
    {
     "data": {
      "text/plain": [
       "Text(0.5, 0, 'Input feature')"
      ]
     },
     "execution_count": 13,
     "metadata": {},
     "output_type": "execute_result"
    },
    {
     "data": {
      "image/png": "[encoded data removed]",
      "text/plain": [
       "<Figure size 432x288 with 1 Axes>"
      ]
     },
     "metadata": {
      "needs_background": "light"
     },
     "output_type": "display_data"
    }
   ],
   "source": [
    "line_binned = encoder.transform(np.digitize(line, bins=bins)) \n",
    " \n",
    "reg = LinearRegression().fit(X_binned, y) \n",
    "plt.plot(line, reg.predict(line_binned), label='linear regression binned') \n",
    " \n",
    "reg = DecisionTreeRegressor(min_samples_split=3).fit(X_binned, y) \n",
    "plt.plot(line, reg.predict(line_binned), label='decision tree binned') \n",
    "plt.plot(X[:, 0], y, 'o', c='k') \n",
    "plt.vlines(bins, -3, 3, linewidth=1, alpha=.2) \n",
    "plt.legend(loc=\"best\") \n",
    "plt.ylabel(\"Regression output\") \n",
    "plt.xlabel(\"Input feature\")"
   ]
  },
  {
   "cell_type": "markdown",
   "id": "fea1fdd2",
   "metadata": {},
   "source": [
    "## 4.3　交互特征与多项式特征"
   ]
  },
  {
   "cell_type": "markdown",
   "id": "58424bd1",
   "metadata": {},
   "source": [
    "想要丰富特征表示，特别是对于线性模型而言，另一种方法是添加原始数据的交互特征\n",
    "（interaction feature）和多项式特征（polynomial feature）。这种特征工程通常用于统计建模，\n",
    "但也常用于许多实际的机器学习应用中。"
   ]
  },
  {
   "cell_type": "code",
   "execution_count": 14,
   "id": "63897e01",
   "metadata": {
    "ExecuteTime": {
     "end_time": "2023-03-15T07:13:25.734870Z",
     "start_time": "2023-03-15T07:13:25.721234Z"
    }
   },
   "outputs": [
    {
     "name": "stdout",
     "output_type": "stream",
     "text": [
      "(100, 11)\n"
     ]
    }
   ],
   "source": [
    "X_combined = np.hstack([X, X_binned]) \n",
    "print(X_combined.shape)"
   ]
  },
  {
   "cell_type": "code",
   "execution_count": 15,
   "id": "64d47150",
   "metadata": {
    "ExecuteTime": {
     "end_time": "2023-03-15T07:13:46.144609Z",
     "start_time": "2023-03-15T07:13:45.995113Z"
    },
    "scrolled": true
   },
   "outputs": [
    {
     "data": {
      "text/plain": [
       "[<matplotlib.lines.Line2D at 0x285dbe31220>]"
      ]
     },
     "execution_count": 15,
     "metadata": {},
     "output_type": "execute_result"
    },
    {
     "data": {
      "image/png": "[encoded data removed]",
      "text/plain": [
       "<Figure size 432x288 with 1 Axes>"
      ]
     },
     "metadata": {
      "needs_background": "light"
     },
     "output_type": "display_data"
    }
   ],
   "source": [
    "reg = LinearRegression().fit(X_combined, y) \n",
    " \n",
    "line_combined = np.hstack([line, line_binned]) \n",
    "plt.plot(line, reg.predict(line_combined), label='linear regression combined') \n",
    " \n",
    "for bin in bins: \n",
    "    plt.plot([bin, bin], [-3, 3], ':', c='k') \n",
    " \n",
    "plt.legend(loc=\"best\") \n",
    "plt.ylabel(\"Regression output\") \n",
    "plt.xlabel(\"Input feature\") \n",
    "plt.plot(X[:, 0], y, 'o', c='k')"
   ]
  },
  {
   "cell_type": "code",
   "execution_count": 16,
   "id": "57048a04",
   "metadata": {
    "ExecuteTime": {
     "end_time": "2023-03-15T07:15:56.844663Z",
     "start_time": "2023-03-15T07:15:56.835988Z"
    }
   },
   "outputs": [
    {
     "name": "stdout",
     "output_type": "stream",
     "text": [
      "(100, 20)\n"
     ]
    }
   ],
   "source": [
    "X_product = np.hstack([X_binned, X * X_binned]) \n",
    "print(X_product.shape)"
   ]
  },
  {
   "cell_type": "code",
   "execution_count": 17,
   "id": "60bf196f",
   "metadata": {
    "ExecuteTime": {
     "end_time": "2023-03-15T07:18:28.700512Z",
     "start_time": "2023-03-15T07:18:28.548698Z"
    },
    "scrolled": true
   },
   "outputs": [
    {
     "data": {
      "text/plain": [
       "<matplotlib.legend.Legend at 0x285dbdaaeb0>"
      ]
     },
     "execution_count": 17,
     "metadata": {},
     "output_type": "execute_result"
    },
    {
     "data": {
      "image/png": "[encoded data removed]",
      "text/plain": [
       "<Figure size 432x288 with 1 Axes>"
      ]
     },
     "metadata": {
      "needs_background": "light"
     },
     "output_type": "display_data"
    }
   ],
   "source": [
    "reg = LinearRegression().fit(X_product, y) \n",
    " \n",
    "line_product = np.hstack([line_binned, line * line_binned]) \n",
    "plt.plot(line, reg.predict(line_product), label='linear regression product') \n",
    " \n",
    "for bin in bins: \n",
    "    plt.plot([bin, bin], [-3, 3], ':', c='k') \n",
    " \n",
    "plt.plot(X[:, 0], y, 'o', c='k') \n",
    "plt.ylabel(\"Regression output\") \n",
    "plt.xlabel(\"Input feature\") \n",
    "plt.legend(loc=\"best\")"
   ]
  },
  {
   "cell_type": "markdown",
   "id": "f3e07940",
   "metadata": {},
   "source": [
    "使 用 分 箱 是 扩 展 连 续 特 征 的 一 种 方 法。 另 一 种 方 法 是 使 用 原 始 特 征 的 多 项 式\n",
    "（polynomial）。对于给定特征 x，我们可以考虑 x  **  2、x  **  3、x  **  4，等等。这在\n",
    "preprocessing 模块的 PolynomialFeatures 中实现："
   ]
  },
  {
   "cell_type": "code",
   "execution_count": 18,
   "id": "83a63833",
   "metadata": {
    "ExecuteTime": {
     "end_time": "2023-03-15T07:20:50.012498Z",
     "start_time": "2023-03-15T07:20:49.996500Z"
    }
   },
   "outputs": [],
   "source": [
    "from sklearn.preprocessing import PolynomialFeatures \n",
    " \n",
    "# 包含直到x ** 10的多项式: \n",
    "# 默认的\"include_bias=True\"添加恒等于1的常数特征 \n",
    "poly = PolynomialFeatures(degree=10, include_bias=False) \n",
    "poly.fit(X) \n",
    "X_poly = poly.transform(X)"
   ]
  },
  {
   "cell_type": "code",
   "execution_count": 19,
   "id": "13c85174",
   "metadata": {
    "ExecuteTime": {
     "end_time": "2023-03-15T07:21:04.541570Z",
     "start_time": "2023-03-15T07:21:04.532503Z"
    }
   },
   "outputs": [
    {
     "name": "stdout",
     "output_type": "stream",
     "text": [
      "X_poly.shape: (100, 10)\n"
     ]
    }
   ],
   "source": [
    "print(\"X_poly.shape: {}\".format(X_poly.shape))"
   ]
  },
  {
   "cell_type": "code",
   "execution_count": 20,
   "id": "53719e83",
   "metadata": {
    "ExecuteTime": {
     "end_time": "2023-03-15T07:21:43.624421Z",
     "start_time": "2023-03-15T07:21:43.604537Z"
    },
    "scrolled": true
   },
   "outputs": [
    {
     "name": "stdout",
     "output_type": "stream",
     "text": [
      "Entries of X:\n",
      "[[-0.75275929]\n",
      " [ 2.70428584]\n",
      " [ 1.39196365]\n",
      " [ 0.59195091]\n",
      " [-2.06388816]]\n",
      "Entries of X_poly:\n",
      "[[-7.52759287e-01  5.66646544e-01 -4.26548448e-01  3.21088306e-01\n",
      "  -2.41702204e-01  1.81943579e-01 -1.36959719e-01  1.03097700e-01\n",
      "  -7.76077513e-02  5.84199555e-02]\n",
      " [ 2.70428584e+00  7.31316190e+00  1.97768801e+01  5.34823369e+01\n",
      "   1.44631526e+02  3.91124988e+02  1.05771377e+03  2.86036036e+03\n",
      "   7.73523202e+03  2.09182784e+04]\n",
      " [ 1.39196365e+00  1.93756281e+00  2.69701700e+00  3.75414962e+00\n",
      "   5.22563982e+00  7.27390068e+00  1.01250053e+01  1.40936394e+01\n",
      "   1.96178338e+01  2.73073115e+01]\n",
      " [ 5.91950905e-01  3.50405874e-01  2.07423074e-01  1.22784277e-01\n",
      "   7.26822637e-02  4.30243318e-02  2.54682921e-02  1.50759786e-02\n",
      "   8.92423917e-03  5.28271146e-03]\n",
      " [-2.06388816e+00  4.25963433e+00 -8.79140884e+00  1.81444846e+01\n",
      "  -3.74481869e+01  7.72888694e+01 -1.59515582e+02  3.29222321e+02\n",
      "  -6.79478050e+02  1.40236670e+03]]\n"
     ]
    }
   ],
   "source": [
    "print(\"Entries of X:\\n{}\".format(X[:5])) \n",
    "print(\"Entries of X_poly:\\n{}\".format(X_poly[:5]))"
   ]
  },
  {
   "cell_type": "code",
   "execution_count": 21,
   "id": "e8f596de",
   "metadata": {
    "ExecuteTime": {
     "end_time": "2023-03-15T07:32:30.065205Z",
     "start_time": "2023-03-15T07:32:30.037531Z"
    }
   },
   "outputs": [
    {
     "name": "stdout",
     "output_type": "stream",
     "text": [
      "Polynomial feature names:\n",
      "['x0', 'x0^2', 'x0^3', 'x0^4', 'x0^5', 'x0^6', 'x0^7', 'x0^8', 'x0^9', 'x0^10']\n"
     ]
    },
    {
     "name": "stderr",
     "output_type": "stream",
     "text": [
      "C:\\Program Files\\Python39\\Lib\\site-packages\\sklearn\\utils\\deprecation.py:87: FutureWarning: Function get_feature_names is deprecated; get_feature_names is deprecated in 1.0 and will be removed in 1.2. Please use get_feature_names_out instead.\n",
      "  warnings.warn(msg, category=FutureWarning)\n"
     ]
    }
   ],
   "source": [
    "print(\"Polynomial feature names:\\n{}\".format(poly.get_feature_names()))"
   ]
  },
  {
   "cell_type": "code",
   "execution_count": 22,
   "id": "67c9fbb1",
   "metadata": {
    "ExecuteTime": {
     "end_time": "2023-03-15T07:32:55.845747Z",
     "start_time": "2023-03-15T07:32:55.732816Z"
    }
   },
   "outputs": [
    {
     "data": {
      "text/plain": [
       "<matplotlib.legend.Legend at 0x285dbf6df10>"
      ]
     },
     "execution_count": 22,
     "metadata": {},
     "output_type": "execute_result"
    },
    {
     "data": {
      "image/png": "[encoded data removed]",
      "text/plain": [
       "<Figure size 432x288 with 1 Axes>"
      ]
     },
     "metadata": {
      "needs_background": "light"
     },
     "output_type": "display_data"
    }
   ],
   "source": [
    "reg = LinearRegression().fit(X_poly, y) \n",
    "line_poly = poly.transform(line) \n",
    "plt.plot(line, reg.predict(line_poly), label='polynomial linear regression') \n",
    "plt.plot(X[:, 0], y, 'o', c='k') \n",
    "plt.ylabel(\"Regression output\") \n",
    "plt.xlabel(\"Input feature\") \n",
    "plt.legend(loc=\"best\")"
   ]
  },
  {
   "cell_type": "markdown",
   "id": "4a6c9378",
   "metadata": {},
   "source": [
    "## 4.4　单变量非线性变换"
   ]
  },
  {
   "cell_type": "markdown",
   "id": "bf91a4a7",
   "metadata": {},
   "source": [
    "## 4.5　自动化特征选择"
   ]
  },
  {
   "cell_type": "markdown",
   "id": "3b92843b",
   "metadata": {},
   "source": [
    "在添加新特征或处理一般的高维数据集时，最好将特征的数量减少到只包含最有用的那些特\n",
    "征，并删除其余特征。这样会得到泛化能力更好、更简单的模型。但你如何判断每个特征\n",
    "的作用有多大呢？有三种基本的策略：<span class=\"mark\">单变量统计</span>（univariate statistics）、<span class=\"mark\">基于模型的选择</span>\n",
    "（model-based selection）和<span class=\"mark\">迭代选择</span>（iterative selection）。"
   ]
  },
  {
   "cell_type": "markdown",
   "id": "4d42ca15",
   "metadata": {},
   "source": [
    "### 4.5.1　单变量统计"
   ]
  },
  {
   "cell_type": "markdown",
   "id": "6c06f5ed",
   "metadata": {},
   "source": [
    "在单变量统计中，我们计算每个特征和目标值之间的关系是否存在统计显著性，然后选\n",
    "择具有最高置信度的特征。对于分类问题，这也被称为方差分析（analysis of variance，\n",
    "ANOVA）。这些测试的一个关键性质就是它们是单变量的（univariate），即它们只单独考\n",
    "虑每个特征。因此，如果一个特征只有在与另一个特征合并时才具有信息量，那么这个特\n",
    "征将被舍弃。单变量测试的计算速度通常很快，并且不需要构建模型。另一方面，它们完\n",
    "全独立于你可能想要在特征选择之后应用的模型。"
   ]
  },
  {
   "cell_type": "markdown",
   "id": "b253db76",
   "metadata": {},
   "source": [
    "想要在 scikit-learn 中使用单变量特征选择，你需要选择一项测试——对分类问题通常\n",
    "是 f_classif（默认值），对回归问题通常是 f_regression——然后基于测试中确定的 p 值\n",
    "来选择一种舍弃特征的方法。"
   ]
  },
  {
   "cell_type": "markdown",
   "id": "092937f6",
   "metadata": {},
   "source": [
    "所有舍弃参数的方法都使用阈值来舍弃所有 p 值过大的特征\n",
    "（意味着它们不可能与目标值相关）。计算阈值的方法各有不同，最简单的是 SelectKBest\n",
    "和 SelectPercentile，前者选择固定数量的 k 个特征，后者选择固定百分比的特征。"
   ]
  },
  {
   "cell_type": "code",
   "execution_count": 23,
   "id": "8a794c8e",
   "metadata": {
    "ExecuteTime": {
     "end_time": "2023-03-15T08:09:43.643606Z",
     "start_time": "2023-03-15T08:09:43.569585Z"
    }
   },
   "outputs": [
    {
     "name": "stdout",
     "output_type": "stream",
     "text": [
      "X_train.shape: (284, 80)\n",
      "X_train_selected.shape: (284, 40)\n"
     ]
    }
   ],
   "source": [
    "from sklearn.datasets import load_breast_cancer \n",
    "from sklearn.feature_selection import SelectPercentile \n",
    "from sklearn.model_selection import train_test_split \n",
    "cancer = load_breast_cancer() \n",
    "# 获得确定性的随机数 \n",
    "rng = np.random.RandomState(42) \n",
    "noise = rng.normal(size=(len(cancer.data), 50)) \n",
    "# 向数据中添加噪声特征 \n",
    "# 前30个特征来自数据集，后50个是噪声 \n",
    "X_w_noise = np.hstack([cancer.data, noise]) \n",
    " \n",
    "X_train, X_test, y_train, y_test = train_test_split( \n",
    "    X_w_noise, cancer.target, random_state=0, test_size=.5) \n",
    "# 使用f_classif（默认值）和SelectPercentile来选择50%的特征 \n",
    "select = SelectPercentile(percentile=50) \n",
    "select.fit(X_train, y_train) \n",
    "# 对训练集进行变换 \n",
    "X_train_selected = select.transform(X_train) \n",
    " \n",
    "print(\"X_train.shape: {}\".format(X_train.shape)) \n",
    "print(\"X_train_selected.shape: {}\".format(X_train_selected.shape))"
   ]
  },
  {
   "cell_type": "code",
   "execution_count": 24,
   "id": "a7259eba",
   "metadata": {
    "ExecuteTime": {
     "end_time": "2023-03-15T08:14:33.314114Z",
     "start_time": "2023-03-15T08:14:33.193599Z"
    }
   },
   "outputs": [
    {
     "name": "stdout",
     "output_type": "stream",
     "text": [
      "[ True  True  True  True  True  True  True  True  True False  True False\n",
      "  True  True  True  True  True  True False False  True  True  True  True\n",
      "  True  True  True  True  True  True False False False  True False  True\n",
      " False False  True False False False False  True False False  True False\n",
      " False  True False  True False False False False False False  True False\n",
      "  True False False False False  True False  True False False False False\n",
      "  True  True False  True False False False False]\n"
     ]
    },
    {
     "data": {
      "text/plain": [
       "Text(0.5, 0, 'Sample index')"
      ]
     },
     "execution_count": 24,
     "metadata": {},
     "output_type": "execute_result"
    },
    {
     "data": {
      "image/png": "[encoded data removed]",
      "text/plain": [
       "<Figure size 1152x144 with 1 Axes>"
      ]
     },
     "metadata": {
      "needs_background": "light"
     },
     "output_type": "display_data"
    }
   ],
   "source": [
    "mask = select.get_support() \n",
    "print(mask) \n",
    "# 将遮罩可视化——黑色为True，白色为False \n",
    "plt.matshow(mask.reshape(1, -1), cmap='gray_r') \n",
    "plt.xlabel(\"Sample index\")"
   ]
  },
  {
   "cell_type": "code",
   "execution_count": 31,
   "id": "43de9f62",
   "metadata": {
    "ExecuteTime": {
     "end_time": "2023-03-15T08:25:24.806642Z",
     "start_time": "2023-03-15T08:25:22.834440Z"
    }
   },
   "outputs": [
    {
     "name": "stdout",
     "output_type": "stream",
     "text": [
      "Score with all features: 0.951\n",
      "Score with only selected features: 0.933\n"
     ]
    }
   ],
   "source": [
    "from sklearn.linear_model import LogisticRegression \n",
    " \n",
    "# 对测试数据进行变换 \n",
    "X_test_selected = select.transform(X_test) \n",
    " \n",
    "lr = LogisticRegression(solver='lbfgs', max_iter=5000) \n",
    "lr.fit(X_train, y_train) \n",
    "print(\"Score with all features: {:.3f}\".format(lr.score(X_test, y_test))) \n",
    "lr.fit(X_train_selected, y_train) \n",
    "print(\"Score with only selected features: {:.3f}\".format( \n",
    "    lr.score(X_test_selected, y_test)))"
   ]
  },
  {
   "cell_type": "markdown",
   "id": "471c22f9",
   "metadata": {},
   "source": [
    "### 4.5.2　基于模型的特征选择"
   ]
  },
  {
   "cell_type": "markdown",
   "id": "89bd8501",
   "metadata": {},
   "source": [
    "基于模型的特征选择使用一个监督机器学习模型来判断每个特征的重要性，并且仅保留最\n",
    "重要的特征。***用于特征选择的监督模型不需要与用于最终监督建模的模型相同。***特征选择\n",
    "模型需要为每个特征提供某种重要性度量，以便用这个度量对特征进行排序。决策树和基\n",
    "于决策树的模型提供了 feature_importances_ 属性，可以直接编码每个特征的重要性。"
   ]
  },
  {
   "cell_type": "code",
   "execution_count": 32,
   "id": "14e1c242",
   "metadata": {
    "ExecuteTime": {
     "end_time": "2023-03-15T08:27:23.936086Z",
     "start_time": "2023-03-15T08:27:23.698077Z"
    }
   },
   "outputs": [],
   "source": [
    "# 我们用包含 100 棵树的随机森林分类器来计算特征重要性。\n",
    "from sklearn.feature_selection import SelectFromModel \n",
    "from sklearn.ensemble import RandomForestClassifier \n",
    "select = SelectFromModel( \n",
    "    RandomForestClassifier(n_estimators=100, random_state=42), \n",
    "    threshold=\"median\")"
   ]
  },
  {
   "cell_type": "code",
   "execution_count": 33,
   "id": "e47d2190",
   "metadata": {
    "ExecuteTime": {
     "end_time": "2023-03-15T08:32:28.647446Z",
     "start_time": "2023-03-15T08:32:28.474488Z"
    }
   },
   "outputs": [
    {
     "name": "stdout",
     "output_type": "stream",
     "text": [
      "X_train.shape: (284, 80)\n",
      "X_train_l1.shape: (284, 40)\n"
     ]
    }
   ],
   "source": [
    "# 我们来实际拟合模型：\n",
    "select.fit(X_train, y_train) \n",
    "X_train_l1 = select.transform(X_train) \n",
    "print(\"X_train.shape: {}\".format(X_train.shape)) \n",
    "print(\"X_train_l1.shape: {}\".format(X_train_l1.shape))"
   ]
  },
  {
   "cell_type": "code",
   "execution_count": 34,
   "id": "ae43563e",
   "metadata": {
    "ExecuteTime": {
     "end_time": "2023-03-15T08:33:03.249737Z",
     "start_time": "2023-03-15T08:33:03.114745Z"
    }
   },
   "outputs": [
    {
     "data": {
      "text/plain": [
       "Text(0.5, 0, 'Sample index')"
      ]
     },
     "execution_count": 34,
     "metadata": {},
     "output_type": "execute_result"
    },
    {
     "data": {
      "image/png": "[encoded data removed]",
      "text/plain": [
       "<Figure size 1152x144 with 1 Axes>"
      ]
     },
     "metadata": {
      "needs_background": "light"
     },
     "output_type": "display_data"
    }
   ],
   "source": [
    "mask = select.get_support() \n",
    "# 将遮罩可视化——黑色为True，白色为False \n",
    "plt.matshow(mask.reshape(1, -1), cmap='gray_r') \n",
    "plt.xlabel(\"Sample index\")"
   ]
  },
  {
   "cell_type": "code",
   "execution_count": 36,
   "id": "22005827",
   "metadata": {
    "ExecuteTime": {
     "end_time": "2023-03-15T08:33:33.765598Z",
     "start_time": "2023-03-15T08:33:32.793822Z"
    }
   },
   "outputs": [
    {
     "name": "stdout",
     "output_type": "stream",
     "text": [
      "Test score: 0.947\n"
     ]
    }
   ],
   "source": [
    "X_test_l1 = select.transform(X_test) \n",
    "score = LogisticRegression(solver='lbfgs', max_iter=5000).fit(X_train_l1, y_train).score(X_test_l1, y_test) \n",
    "print(\"Test score: {:.3f}\".format(score))"
   ]
  },
  {
   "cell_type": "markdown",
   "id": "ec518824",
   "metadata": {},
   "source": [
    "### 4.5.3　迭代特征选择"
   ]
  },
  {
   "cell_type": "markdown",
   "id": "397ff90f",
   "metadata": {},
   "source": [
    "在迭代特征选择中，将会构建一系列模型，每个模型都使用不同数量的特征。有\n",
    "两种基本方法：开始时没有特征，然后逐个添加特征，直到满足某个终止条件；或者从所\n",
    "有特征开始，然后逐个删除特征，直到满足某个终止条件。由于构建了一系列模型，所\n",
    "以这些方法的计算成本要比前面讨论过的方法更高。其中一种特殊方法是递归特征消除\n",
    "（recursive feature elimination，RFE），它从所有特征开始构建模型，并根据模型舍弃最不重\n",
    "要的特征，然后使用除被舍弃特征之外的所有特征来构建一个新模型，如此继续，直到仅\n",
    "剩下预设数量的特征。"
   ]
  },
  {
   "cell_type": "markdown",
   "id": "6db9b020",
   "metadata": {
    "ExecuteTime": {
     "end_time": "2023-03-15T09:20:51.434543Z",
     "start_time": "2023-03-15T09:20:51.422924Z"
    }
   },
   "source": [
    "为了让这种方法能够运行，用于选择的模型需要提供某种确定特征\n",
    "重要性的方法，正如基于模型的选择所做的那样。下面我们使用之前用过的同一个随机森\n",
    "林模型:"
   ]
  },
  {
   "cell_type": "code",
   "execution_count": 38,
   "id": "ff109dc9",
   "metadata": {
    "ExecuteTime": {
     "end_time": "2023-03-15T09:21:23.027904Z",
     "start_time": "2023-03-15T09:21:17.445352Z"
    }
   },
   "outputs": [
    {
     "data": {
      "text/plain": [
       "Text(0.5, 0, 'Sample index')"
      ]
     },
     "execution_count": 38,
     "metadata": {},
     "output_type": "execute_result"
    },
    {
     "data": {
      "image/png": "[encoded data removed]",
      "text/plain": [
       "<Figure size 1152x144 with 1 Axes>"
      ]
     },
     "metadata": {
      "needs_background": "light"
     },
     "output_type": "display_data"
    }
   ],
   "source": [
    "from sklearn.feature_selection import RFE \n",
    "select = RFE(RandomForestClassifier(n_estimators=100, random_state=42), \n",
    "             n_features_to_select=40) \n",
    "select.fit(X_train, y_train) \n",
    "# 将选中的特征可视化： \n",
    "mask = select.get_support() \n",
    "plt.matshow(mask.reshape(1, -1), cmap='gray_r') \n",
    "plt.xlabel(\"Sample index\")"
   ]
  },
  {
   "cell_type": "markdown",
   "id": "09fcb994",
   "metadata": {},
   "source": [
    "与单变量选择和基于模型的选择相比，迭代特征选择的结果更好，但仍然漏掉了一个特\n",
    "征。运行上述代码需要的时间也比基于模型的选择长得多，因为对一个随机森林模型训练\n",
    "了 40 次，每运行一次删除一个特征。我们来测试一下使用 RFE 做特征选择时 Logistic 回\n",
    "归模型的精度："
   ]
  },
  {
   "cell_type": "code",
   "execution_count": 40,
   "id": "5e4b6b05",
   "metadata": {
    "ExecuteTime": {
     "end_time": "2023-03-15T09:23:31.766305Z",
     "start_time": "2023-03-15T09:23:30.749391Z"
    }
   },
   "outputs": [
    {
     "name": "stdout",
     "output_type": "stream",
     "text": [
      "Test score: 0.940\n"
     ]
    }
   ],
   "source": [
    "X_train_rfe= select.transform(X_train) \n",
    "X_test_rfe= select.transform(X_test) \n",
    " \n",
    "score = LogisticRegression(solver='lbfgs', max_iter=5000).fit(X_train_rfe, y_train).score(X_test_rfe, y_test) \n",
    "print(\"Test score: {:.3f}\".format(score))"
   ]
  },
  {
   "cell_type": "markdown",
   "id": "e64155c1",
   "metadata": {},
   "source": [
    "## 4.6　利用专家知识"
   ]
  },
  {
   "cell_type": "code",
   "execution_count": null,
   "id": "20b9c123",
   "metadata": {},
   "outputs": [],
   "source": []
  }
 ],
 "metadata": {
  "kernelspec": {
   "display_name": "Python 3 (ipykernel)",
   "language": "python",
   "name": "python3"
  },
  "language_info": {
   "codemirror_mode": {
    "name": "ipython",
    "version": 3
   },
   "file_extension": ".py",
   "mimetype": "text/x-python",
   "name": "python",
   "nbconvert_exporter": "python",
   "pygments_lexer": "ipython3",
   "version": "3.9.1"
  },
  "toc": {
   "base_numbering": 1,
   "nav_menu": {},
   "number_sections": false,
   "sideBar": true,
   "skip_h1_title": true,
   "title_cell": "Table of Contents",
   "title_sidebar": "Contents",
   "toc_cell": true,
   "toc_position": {
    "height": "795px",
    "left": "244px",
    "top": "52px",
    "width": "384px"
   },
   "toc_section_display": true,
   "toc_window_display": true
  },
  "varInspector": {
   "cols": {
    "lenName": 16,
    "lenType": 16,
    "lenVar": 40
   },
   "kernels_config": {
    "python": {
     "delete_cmd_postfix": "",
     "delete_cmd_prefix": "del ",
     "library": "var_list.py",
     "varRefreshCmd": "print(var_dic_list())"
    },
    "r": {
     "delete_cmd_postfix": ") ",
     "delete_cmd_prefix": "rm(",
     "library": "var_list.r",
     "varRefreshCmd": "cat(var_dic_list()) "
    }
   },
   "position": {
    "height": "288.844px",
    "left": "1550px",
    "right": "20px",
    "top": "120px",
    "width": "350px"
   },
   "types_to_exclude": [
    "module",
    "function",
    "builtin_function_or_method",
    "instance",
    "_Feature"
   ],
   "window_display": true
  }
 },
 "nbformat": 4,
 "nbformat_minor": 5
}
