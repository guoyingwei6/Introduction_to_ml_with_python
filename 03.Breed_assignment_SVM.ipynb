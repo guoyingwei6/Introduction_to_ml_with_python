{
 "cells": [
  {
   "cell_type": "markdown",
   "id": "b03faebb",
   "metadata": {
    "toc": true
   },
   "source": [
    "<h1>Table of Contents<span class=\"tocSkip\"></span></h1>\n",
    "<div class=\"toc\"><ul class=\"toc-item\"></ul></div>"
   ]
  },
  {
   "cell_type": "markdown",
   "id": "ed347fe3",
   "metadata": {},
   "source": [
    "# 03.品种鉴定——支持向量机 SVM"
   ]
  },
  {
   "cell_type": "code",
   "execution_count": 3,
   "id": "cde67637",
   "metadata": {
    "ExecuteTime": {
     "end_time": "2023-03-08T07:26:32.038929Z",
     "start_time": "2023-03-08T07:26:30.868213Z"
    }
   },
   "outputs": [],
   "source": [
    "import numpy as np\n",
    "import pandas as pd\n",
    "from sklearn.model_selection import train_test_split \n",
    "from sklearn.metrics import accuracy_score \n",
    "from sklearn.metrics import confusion_matrix \n",
    "from sklearn.svm import SVC"
   ]
  },
  {
   "cell_type": "code",
   "execution_count": 4,
   "id": "dcc56c45",
   "metadata": {
    "ExecuteTime": {
     "end_time": "2023-03-08T07:26:32.429804Z",
     "start_time": "2023-03-08T07:26:32.391791Z"
    }
   },
   "outputs": [],
   "source": [
    "# 读取数据\n",
    "ori_df = pd.read_table('data_for_ml', header = None, sep=' ')\n",
    "all_features = ori_df.iloc[:, 1:].values\n",
    "all_labels = ori_df.iloc[:, :1].values.ravel()"
   ]
  },
  {
   "cell_type": "code",
   "execution_count": 3,
   "id": "c3929bc2",
   "metadata": {
    "ExecuteTime": {
     "end_time": "2023-02-28T15:15:54.193419Z",
     "start_time": "2023-02-28T15:15:54.181905Z"
    }
   },
   "outputs": [
    {
     "name": "stdout",
     "output_type": "stream",
     "text": [
      "X_train shape: (171, 767)\n",
      "y_train shape: (171,)\n",
      "X_test shape: (57, 767)\n",
      "y_test shape: (57,)\n"
     ]
    }
   ],
   "source": [
    "# 数据分割\n",
    "from sklearn.model_selection import train_test_split \n",
    "X_train, X_test, y_train, y_test = train_test_split( \n",
    "    all_features, all_labels, random_state=0)\n",
    "print(\"X_train shape: {}\".format(X_train.shape)) \n",
    "print(\"y_train shape: {}\".format(y_train.shape))\n",
    "print(\"X_test shape: {}\".format(X_test.shape)) \n",
    "print(\"y_test shape: {}\".format(y_test.shape))"
   ]
  },
  {
   "cell_type": "code",
   "execution_count": 9,
   "id": "15ab89b1",
   "metadata": {
    "ExecuteTime": {
     "end_time": "2023-02-28T15:23:32.613410Z",
     "start_time": "2023-02-28T15:23:32.538098Z"
    }
   },
   "outputs": [
    {
     "name": "stdout",
     "output_type": "stream",
     "text": [
      "Test set predictions:\n",
      " [ 3  9  6  9  3  2 10  4 10  8  3  2  3  1  6  3  2  1  2  8  8  2 10 10\n",
      "  2  3  6  2  1  3  8  3  9  3  2  1  1  8  1  2 10  2  3  6 10  9  2  3\n",
      "  3  9  2  3  9  4  1  3  2]\n",
      "Test set score: 0.6316\n",
      "Confusion matrix:\n",
      "[[ 7  0  0  0  0  0  0  0  0  0]\n",
      " [ 0  3  0  0  0  0  0  0  0  0]\n",
      " [ 0  0  4  0  0  0  0  0  0  0]\n",
      " [ 0  0  0  2  0  0  0  0  0  0]\n",
      " [ 0 10  0  0  0  0  0  0  0  0]\n",
      " [ 0  0  0  0  0  3  0  0  0  0]\n",
      " [ 0  0 10  0  0  1  0  0  0  0]\n",
      " [ 0  0  0  0  0  0  0  5  0  0]\n",
      " [ 0  0  0  0  0  0  0  0  6  0]\n",
      " [ 0  0  0  0  0  0  0  0  0  6]]\n"
     ]
    }
   ],
   "source": [
    "# train\n",
    "from sklearn.svm import SVC\n",
    "svc = SVC()\n",
    "svc.fit(X_train, y_train)\n",
    "# test\n",
    "y_pred = svc.predict(X_test) \n",
    "print(\"Test set predictions:\\n {}\".format(y_pred))\n",
    "print(\"Test set score: {:.4f}\".format(np.mean(y_pred == y_test)))\n",
    "print(\"Confusion matrix:\\n{}\".format(confusion_matrix(y_test, y_pred)))"
   ]
  },
  {
   "cell_type": "code",
   "execution_count": 11,
   "id": "703a240a",
   "metadata": {
    "ExecuteTime": {
     "end_time": "2023-02-28T15:23:58.516088Z",
     "start_time": "2023-02-28T15:23:58.458468Z"
    }
   },
   "outputs": [
    {
     "name": "stdout",
     "output_type": "stream",
     "text": [
      "Test set predictions:\n",
      " [ 3  9  6  9  3  2 10  4 10  8  3  2  3  1  6  3  2  1  2  8  8  2 10 10\n",
      "  2  3  6  2  1  3  8  3  9  3  2  1  1  8  1  2 10  2  3  6 10  9  2  3\n",
      "  3  9  2  3  9  4  1  3  2]\n",
      "Test set score: 0.6316\n",
      "Confusion matrix:\n",
      "[[ 7  0  0  0  0  0  0  0  0  0]\n",
      " [ 0  3  0  0  0  0  0  0  0  0]\n",
      " [ 0  0  4  0  0  0  0  0  0  0]\n",
      " [ 0  0  0  2  0  0  0  0  0  0]\n",
      " [ 0 10  0  0  0  0  0  0  0  0]\n",
      " [ 0  0  0  0  0  3  0  0  0  0]\n",
      " [ 0  0 10  0  0  1  0  0  0  0]\n",
      " [ 0  0  0  0  0  0  0  5  0  0]\n",
      " [ 0  0  0  0  0  0  0  0  6  0]\n",
      " [ 0  0  0  0  0  0  0  0  0  6]]\n"
     ]
    }
   ],
   "source": [
    "# 调节超参数\n",
    "from sklearn.svm import SVC\n",
    "svc = SVC(kernel='rbf') #, C=10, gamma=10\n",
    "svc.fit(X_train, y_train)\n",
    "y_pred = svc.predict(X_test) \n",
    "print(\"Test set predictions:\\n {}\".format(y_pred))\n",
    "print(\"Test set score: {:.4f}\".format(np.mean(y_pred == y_test)))\n",
    "print(\"Confusion matrix:\\n{}\".format(confusion_matrix(y_test, y_pred)))"
   ]
  },
  {
   "cell_type": "code",
   "execution_count": 6,
   "id": "774cf38a",
   "metadata": {
    "ExecuteTime": {
     "end_time": "2023-03-08T07:33:47.978720Z",
     "start_time": "2023-03-08T07:33:47.964702Z"
    }
   },
   "outputs": [
    {
     "name": "stdout",
     "output_type": "stream",
     "text": [
      "(43, 767) (43,)\n",
      "Test set predictions:\n",
      " [10 10 10  9  9 10 10  9 10 10 10]\n",
      "Test set score: 1.0000\n",
      "Accuracy on test set: 1.000\n",
      "Confusion matrix:\n",
      "[[3 0]\n",
      " [0 8]]\n"
     ]
    }
   ],
   "source": [
    "# 用YHC和ZTC两个品种\n",
    "two_breeds_features = ori_df.iloc[184:227, 1:].values\n",
    "two_breeds_labels = ori_df.iloc[184:227, :1].values.ravel()\n",
    "print(two_breeds_features.shape, two_breeds_labels.shape)\n",
    "from sklearn.model_selection import train_test_split \n",
    "X_train, X_test, y_train, y_test = train_test_split( \n",
    "    two_breeds_features, two_breeds_labels, random_state=0)\n",
    "from sklearn.svm import SVC\n",
    "svc = SVC(kernel='rbf') #, C=10, gamma=10\n",
    "svc.fit(X_train, y_train)\n",
    "y_pred = svc.predict(X_test) \n",
    "print(\"Test set predictions:\\n {}\".format(y_pred))\n",
    "print(\"Test set score: {:.4f}\".format(np.mean(y_pred == y_test)))\n",
    "print(\"Accuracy on test set: {:.3f}\".format(svc.score(X_test, y_test)))\n",
    "print(\"Confusion matrix:\\n{}\".format(confusion_matrix(y_test, y_pred)))"
   ]
  },
  {
   "cell_type": "code",
   "execution_count": null,
   "id": "074677db",
   "metadata": {},
   "outputs": [],
   "source": []
  }
 ],
 "metadata": {
  "kernelspec": {
   "display_name": "Python 3 (ipykernel)",
   "language": "python",
   "name": "python3"
  },
  "language_info": {
   "codemirror_mode": {
    "name": "ipython",
    "version": 3
   },
   "file_extension": ".py",
   "mimetype": "text/x-python",
   "name": "python",
   "nbconvert_exporter": "python",
   "pygments_lexer": "ipython3",
   "version": "3.9.1"
  },
  "toc": {
   "base_numbering": 1,
   "nav_menu": {},
   "number_sections": false,
   "sideBar": true,
   "skip_h1_title": true,
   "title_cell": "Table of Contents",
   "title_sidebar": "Contents",
   "toc_cell": true,
   "toc_position": {
    "height": "795px",
    "left": "21px",
    "top": "0px",
    "width": "384px"
   },
   "toc_section_display": true,
   "toc_window_display": false
  },
  "varInspector": {
   "cols": {
    "lenName": 16,
    "lenType": 16,
    "lenVar": 40
   },
   "kernels_config": {
    "python": {
     "delete_cmd_postfix": "",
     "delete_cmd_prefix": "del ",
     "library": "var_list.py",
     "varRefreshCmd": "print(var_dic_list())"
    },
    "r": {
     "delete_cmd_postfix": ") ",
     "delete_cmd_prefix": "rm(",
     "library": "var_list.r",
     "varRefreshCmd": "cat(var_dic_list()) "
    }
   },
   "position": {
    "height": "382.844px",
    "left": "1550px",
    "right": "20px",
    "top": "120px",
    "width": "350px"
   },
   "types_to_exclude": [
    "module",
    "function",
    "builtin_function_or_method",
    "instance",
    "_Feature"
   ],
   "window_display": true
  }
 },
 "nbformat": 4,
 "nbformat_minor": 5
}
