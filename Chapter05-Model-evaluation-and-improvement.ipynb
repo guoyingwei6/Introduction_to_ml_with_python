{
 "cells": [
  {
   "cell_type": "markdown",
   "id": "fbbf7fb2",
   "metadata": {
    "toc": true
   },
   "source": [
    "<h1>Table of Contents<span class=\"tocSkip\"></span></h1>\n",
    "<div class=\"toc\"><ul class=\"toc-item\"><li><span><a href=\"#5.1　交叉验证\" data-toc-modified-id=\"5.1　交叉验证-1\">5.1　交叉验证</a></span><ul class=\"toc-item\"><li><span><a href=\"#5.1.1　scikit-learn中的交叉验证\" data-toc-modified-id=\"5.1.1　scikit-learn中的交叉验证-1.1\">5.1.1　scikit-learn中的交叉验证</a></span></li><li><span><a href=\"#5.1.2　交叉验证的优点\" data-toc-modified-id=\"5.1.2　交叉验证的优点-1.2\">5.1.2　交叉验证的优点</a></span></li><li><span><a href=\"#5.1.3　分层k折交叉验证和其他策略\" data-toc-modified-id=\"5.1.3　分层k折交叉验证和其他策略-1.3\">5.1.3　分层k折交叉验证和其他策略</a></span><ul class=\"toc-item\"><li><span><a href=\"#1.-对交叉验证的更多控制\" data-toc-modified-id=\"1.-对交叉验证的更多控制-1.3.1\">1. 对交叉验证的更多控制</a></span></li><li><span><a href=\"#2.-留一法交叉验证\" data-toc-modified-id=\"2.-留一法交叉验证-1.3.2\">2. 留一法交叉验证</a></span></li><li><span><a href=\"#3.-打乱划分交叉验证\" data-toc-modified-id=\"3.-打乱划分交叉验证-1.3.3\">3. 打乱划分交叉验证</a></span></li><li><span><a href=\"#4.-分组交叉验证\" data-toc-modified-id=\"4.-分组交叉验证-1.3.4\">4. 分组交叉验证</a></span></li></ul></li></ul></li><li><span><a href=\"#5.2　网格搜索\" data-toc-modified-id=\"5.2　网格搜索-2\">5.2　网格搜索</a></span><ul class=\"toc-item\"><li><span><a href=\"#5.2.1　简单网格搜索\" data-toc-modified-id=\"5.2.1　简单网格搜索-2.1\">5.2.1　简单网格搜索</a></span></li><li><span><a href=\"#5.2.2　参数过拟合的风险与验证集\" data-toc-modified-id=\"5.2.2　参数过拟合的风险与验证集-2.2\">5.2.2　参数过拟合的风险与验证集</a></span></li><li><span><a href=\"#5.2.3　带交叉验证的网格搜索\" data-toc-modified-id=\"5.2.3　带交叉验证的网格搜索-2.3\">5.2.3　带交叉验证的网格搜索</a></span></li></ul></li></ul></div>"
   ]
  },
  {
   "cell_type": "markdown",
   "id": "e28b2814",
   "metadata": {},
   "source": [
    "# 第5章 模型评估与改进"
   ]
  },
  {
   "cell_type": "code",
   "execution_count": 1,
   "id": "c313a449",
   "metadata": {
    "ExecuteTime": {
     "end_time": "2023-03-21T13:23:04.357386Z",
     "start_time": "2023-03-21T13:23:01.022086Z"
    }
   },
   "outputs": [
    {
     "name": "stdout",
     "output_type": "stream",
     "text": [
      "Test set score: 0.88\n"
     ]
    }
   ],
   "source": [
    "from sklearn.datasets import make_blobs \n",
    "from sklearn.linear_model import LogisticRegression \n",
    "from sklearn.model_selection import train_test_split \n",
    " \n",
    "# 创建一个模拟数据集 \n",
    "X, y = make_blobs(random_state=0) \n",
    "# 将数据和标签划分为训练集和测试集 \n",
    "X_train, X_test, y_train, y_test = train_test_split(X, y, random_state=0) \n",
    "# 将模型实例化，并用它来拟合训练集 \n",
    "logreg = LogisticRegression().fit(X_train, y_train) \n",
    "# 在测试集上评估该模型 \n",
    "print(\"Test set score: {:.2f}\".format(logreg.score(X_test, y_test)))"
   ]
  },
  {
   "cell_type": "markdown",
   "id": "1570102c",
   "metadata": {},
   "source": [
    "## 5.1　交叉验证"
   ]
  },
  {
   "cell_type": "markdown",
   "id": "6771f8ce",
   "metadata": {},
   "source": [
    "交叉验证（cross-validation）是一种评估泛化性能的统计学方法，它比单次划分训练集和测\n",
    "试集的方法更加稳定、全面。在交叉验证中，数据被多次划分，并且需要训练多个模型。\n",
    "最常用的交叉验证是 k 折交叉验证（k-fold cross-validation），其中 k 是由用户指定的数字，\n",
    "通常取 5 或 10。在执行 5 折交叉验证时，首先将数据划分为（大致）相等的 5 部分，每一\n",
    "部分叫作折（fold）。接下来训练一系列模型。使用第 1 折作为测试集、其他折（2-5）作\n",
    "为训练集来训练第一个模型。利用 2-5 折中的数据来构建模型，然后在 1 折上评估精度。\n",
    "之后构建另一个模型，这次使用 2 折作为测试集，1、3、4、5 折中的数据作为训练集。利\n",
    "用 3、4、5 折作为测试集继续重复这一过程。对于将数据划分为训练集和测试集的这 5 次\n",
    "划分，每一次都要计算精度。最后我们得到了 5 个精度值。整个过程如图 5-1 所示。"
   ]
  },
  {
   "cell_type": "code",
   "execution_count": 3,
   "id": "5432ce58",
   "metadata": {
    "ExecuteTime": {
     "end_time": "2023-03-21T13:26:39.871420Z",
     "start_time": "2023-03-21T13:26:36.957383Z"
    }
   },
   "outputs": [
    {
     "data": {
      "image/png": "[encoded data removed]",
      "text/plain": [
       "<Figure size 864x144 with 1 Axes>"
      ]
     },
     "metadata": {
      "needs_background": "light"
     },
     "output_type": "display_data"
    }
   ],
   "source": [
    "import mglearn\n",
    "mglearn.plots.plot_cross_validation()"
   ]
  },
  {
   "cell_type": "markdown",
   "id": "0e2b032d",
   "metadata": {},
   "source": [
    "### 5.1.1　scikit-learn中的交叉验证"
   ]
  },
  {
   "cell_type": "markdown",
   "id": "8ec983e8",
   "metadata": {},
   "source": [
    "scikit-learn 是利用 model_selection 模块中的 cross_val_score 函数来实现交叉验证的。\n",
    "cross_val_score 函数的参数是我们想要评估的模型、训练数据与真实标签。"
   ]
  },
  {
   "cell_type": "code",
   "execution_count": 5,
   "id": "91035ada",
   "metadata": {
    "ExecuteTime": {
     "end_time": "2023-03-21T13:28:06.686871Z",
     "start_time": "2023-03-21T13:28:06.589153Z"
    }
   },
   "outputs": [
    {
     "name": "stdout",
     "output_type": "stream",
     "text": [
      "Cross-validation scores: [0.96666667 1.         0.93333333 0.96666667 1.        ]\n"
     ]
    }
   ],
   "source": [
    "from sklearn.model_selection import cross_val_score \n",
    "from sklearn.datasets import load_iris \n",
    "from sklearn.linear_model import LogisticRegression \n",
    " \n",
    "iris = load_iris() \n",
    "logreg = LogisticRegression(max_iter=10000) \n",
    " \n",
    "scores = cross_val_score(logreg, iris.data, iris.target) \n",
    "print(\"Cross-validation scores: {}\".format(scores))"
   ]
  },
  {
   "cell_type": "code",
   "execution_count": 6,
   "id": "630631d3",
   "metadata": {
    "ExecuteTime": {
     "end_time": "2023-03-21T13:28:48.517199Z",
     "start_time": "2023-03-21T13:28:48.413175Z"
    }
   },
   "outputs": [
    {
     "name": "stdout",
     "output_type": "stream",
     "text": [
      "Cross-validation scores: [0.96666667 1.         0.93333333 0.96666667 1.        ]\n"
     ]
    }
   ],
   "source": [
    "scores = cross_val_score(logreg, iris.data, iris.target, cv=5) \n",
    "print(\"Cross-validation scores: {}\".format(scores))"
   ]
  },
  {
   "cell_type": "code",
   "execution_count": 7,
   "id": "30b6b725",
   "metadata": {
    "ExecuteTime": {
     "end_time": "2023-03-21T13:29:00.892235Z",
     "start_time": "2023-03-21T13:29:00.878240Z"
    }
   },
   "outputs": [
    {
     "name": "stdout",
     "output_type": "stream",
     "text": [
      "Average cross-validation score: 0.97\n"
     ]
    }
   ],
   "source": [
    "print(\"Average cross-validation score: {:.2f}\".format(scores.mean()))"
   ]
  },
  {
   "cell_type": "markdown",
   "id": "1527cfbc",
   "metadata": {},
   "source": [
    "### 5.1.2　交叉验证的优点"
   ]
  },
  {
   "cell_type": "markdown",
   "id": "7d5d4758",
   "metadata": {},
   "source": [
    "### 5.1.3　分层k折交叉验证和其他策略"
   ]
  },
  {
   "cell_type": "markdown",
   "id": "83da683a",
   "metadata": {},
   "source": [
    " scikit-learn 在分类问题中不使用这种策略，而\n",
    "是使用分层 k 折交叉验证（stratiﬁed k-fold cross-validation）"
   ]
  },
  {
   "cell_type": "code",
   "execution_count": 8,
   "id": "25991e40",
   "metadata": {
    "ExecuteTime": {
     "end_time": "2023-03-21T13:35:32.566808Z",
     "start_time": "2023-03-21T13:35:32.350410Z"
    }
   },
   "outputs": [
    {
     "data": {
      "image/png": "[encoded data removed]",
      "text/plain": [
       "<Figure size 864x360 with 2 Axes>"
      ]
     },
     "metadata": {
      "needs_background": "light"
     },
     "output_type": "display_data"
    }
   ],
   "source": [
    "mglearn.plots.plot_stratified_cross_validation()"
   ]
  },
  {
   "cell_type": "markdown",
   "id": "a3794189",
   "metadata": {},
   "source": [
    "#### 1. 对交叉验证的更多控制"
   ]
  },
  {
   "cell_type": "markdown",
   "id": "da6aaca1",
   "metadata": {},
   "source": [
    "#### 2. 留一法交叉验证"
   ]
  },
  {
   "cell_type": "markdown",
   "id": "cb70996f",
   "metadata": {},
   "source": [
    "#### 3. 打乱划分交叉验证"
   ]
  },
  {
   "cell_type": "markdown",
   "id": "4ff11378",
   "metadata": {},
   "source": [
    "#### 4. 分组交叉验证"
   ]
  },
  {
   "cell_type": "markdown",
   "id": "2067ed47",
   "metadata": {},
   "source": [
    "## 5.2　网格搜索"
   ]
  },
  {
   "cell_type": "markdown",
   "id": "08fb7b90",
   "metadata": {},
   "source": [
    "### 5.2.1　简单网格搜索"
   ]
  },
  {
   "cell_type": "code",
   "execution_count": 9,
   "id": "7f0c7a5c",
   "metadata": {
    "ExecuteTime": {
     "end_time": "2023-03-21T13:48:29.271447Z",
     "start_time": "2023-03-21T13:48:29.215429Z"
    }
   },
   "outputs": [
    {
     "name": "stdout",
     "output_type": "stream",
     "text": [
      "Size of training set: 112   size of test set: 38\n",
      "Best score: 0.97\n",
      "Best parameters: {'C': 100, 'gamma': 0.001}\n"
     ]
    }
   ],
   "source": [
    "# 简单的网格搜索实现 \n",
    "from sklearn.svm import SVC \n",
    "X_train, X_test, y_train, y_test = train_test_split( \n",
    "    iris.data, iris.target, random_state=0) \n",
    "print(\"Size of training set: {}   size of test set: {}\".format( \n",
    "      X_train.shape[0], X_test.shape[0])) \n",
    " \n",
    "best_score = 0 \n",
    " \n",
    "for gamma in [0.001, 0.01, 0.1, 1, 10, 100]: \n",
    "    for C in [0.001, 0.01, 0.1, 1, 10, 100]: \n",
    "        # 对每种参数组合都训练一个SVC \n",
    "        svm = SVC(gamma=gamma, C=C) \n",
    "        svm.fit(X_train, y_train) \n",
    "        # 在测试集上评估SVC \n",
    "        score = svm.score(X_test, y_test) \n",
    "        # 如果我们得到了更高的分数，则保存该分数和对应的参数 \n",
    "        if score > best_score: \n",
    "            best_score = score \n",
    "            best_parameters = {'C': C, 'gamma': gamma} \n",
    " \n",
    "print(\"Best score: {:.2f}\".format(best_score)) \n",
    "print(\"Best parameters: {}\".format(best_parameters))"
   ]
  },
  {
   "cell_type": "markdown",
   "id": "e88d3570",
   "metadata": {},
   "source": [
    "### 5.2.2　参数过拟合的风险与验证集"
   ]
  },
  {
   "cell_type": "markdown",
   "id": "ae0e5c96",
   "metadata": {},
   "source": [
    "看到这个结果，我们可能忍不住要报告，我们找到了一个在数据集上精度达到 97% 的模\n",
    "型。然而，这种说法可能过于乐观了（或者就是错的），其原因如下：我们尝试了许多不\n",
    "同的参数，并选择了在测试集上精度最高的那个，但这个精度不一定能推广到新数据上。\n",
    "由于我们使用测试数据进行调参，所以不能再用它来评估模型的好坏。我们最开始需要将\n",
    "数据划分为训练集和测试集也是因为这个原因。我们需要一个独立的数据集来进行评估，\n",
    "一个在创建模型时没有用到的数据集。"
   ]
  },
  {
   "cell_type": "markdown",
   "id": "15aad994",
   "metadata": {
    "ExecuteTime": {
     "end_time": "2023-03-21T13:52:42.488450Z",
     "start_time": "2023-03-21T13:52:42.477452Z"
    }
   },
   "source": [
    "为了解决这个问题，一种方法是再次划分数据，这样我们得到 3 个数据集：用于构建模型\n",
    "的训练集，用于选择模型参数的验证集（开发集），用于评估所选参数性能的测试集。图\n",
    "5-5 给出了这 3 个集合的图示："
   ]
  },
  {
   "cell_type": "code",
   "execution_count": 11,
   "id": "4e48c423",
   "metadata": {
    "ExecuteTime": {
     "end_time": "2023-03-21T13:52:52.139086Z",
     "start_time": "2023-03-21T13:52:52.055103Z"
    }
   },
   "outputs": [
    {
     "data": {
      "image/png": "[encoded data removed]",
      "text/plain": [
       "<Figure size 1080x72 with 1 Axes>"
      ]
     },
     "metadata": {
      "needs_background": "light"
     },
     "output_type": "display_data"
    }
   ],
   "source": [
    "mglearn.plots.plot_threefold_split()"
   ]
  },
  {
   "cell_type": "markdown",
   "id": "e46832dc",
   "metadata": {},
   "source": [
    "利用验证集选定最佳参数之后，我们可以利用找到的参数设置重新构建一个模型，但是要\n",
    "同时在训练数据和验证数据上进行训练。这样我们可以利用尽可能多的数据来构建模型。\n",
    "其实现如下所示："
   ]
  },
  {
   "cell_type": "code",
   "execution_count": 12,
   "id": "a3a198d1",
   "metadata": {
    "ExecuteTime": {
     "end_time": "2023-03-21T13:53:48.224887Z",
     "start_time": "2023-03-21T13:53:48.169876Z"
    }
   },
   "outputs": [
    {
     "name": "stdout",
     "output_type": "stream",
     "text": [
      "Size of training set: 84   size of validation set: 28   size of test set: 38\n",
      "\n",
      "Best score on validation set: 0.96\n",
      "Best parameters:  {'C': 10, 'gamma': 0.001}\n",
      "Test set score with best parameters: 0.92\n"
     ]
    }
   ],
   "source": [
    "from sklearn.svm import SVC \n",
    "# 将数据划分为训练+验证集与测试集 \n",
    "X_trainval, X_test, y_trainval, y_test = train_test_split( \n",
    "    iris.data, iris.target, random_state=0) \n",
    "# 将训练+验证集划分为训练集与验证集 \n",
    "X_train, X_valid, y_train, y_valid = train_test_split( \n",
    "    X_trainval, y_trainval, random_state=1) \n",
    "print(\"Size of training set: {}   size of validation set: {}   size of test set:\" \n",
    "      \" {}\\n\".format(X_train.shape[0], X_valid.shape[0], X_test.shape[0])) \n",
    " \n",
    "best_score = 0 \n",
    " \n",
    "for gamma in [0.001, 0.01, 0.1, 1, 10, 100]: \n",
    "    for C in [0.001, 0.01, 0.1, 1, 10, 100]: \n",
    "        # 对每种参数组合都训练一个SVC \n",
    "        svm = SVC(gamma=gamma, C=C) \n",
    "        svm.fit(X_train, y_train) \n",
    "        # 在验证集上评估SVC \n",
    "        score = svm.score(X_valid, y_valid) \n",
    "        # 如果我们得到了更高的分数，则保存该分数和对应的参数 \n",
    "        if score > best_score: \n",
    "            best_score = score \n",
    "            best_parameters = {'C': C, 'gamma': gamma} \n",
    "# 在训练+验证集上重新构建一个模型，并在测试集上进行评估 \n",
    "svm = SVC(**best_parameters) \n",
    "svm.fit(X_trainval, y_trainval) \n",
    "test_score = svm.score(X_test, y_test) \n",
    "print(\"Best score on validation set: {:.2f}\".format(best_score)) \n",
    "print(\"Best parameters: \", best_parameters) \n",
    "print(\"Test set score with best parameters: {:.2f}\".format(test_score))"
   ]
  },
  {
   "cell_type": "markdown",
   "id": "f612cce2",
   "metadata": {},
   "source": [
    "### 5.2.3　带交叉验证的网格搜索"
   ]
  },
  {
   "cell_type": "code",
   "execution_count": null,
   "id": "6095dc24",
   "metadata": {},
   "outputs": [],
   "source": []
  }
 ],
 "metadata": {
  "kernelspec": {
   "display_name": "Python 3 (ipykernel)",
   "language": "python",
   "name": "python3"
  },
  "language_info": {
   "codemirror_mode": {
    "name": "ipython",
    "version": 3
   },
   "file_extension": ".py",
   "mimetype": "text/x-python",
   "name": "python",
   "nbconvert_exporter": "python",
   "pygments_lexer": "ipython3",
   "version": "3.9.1"
  },
  "toc": {
   "base_numbering": 1,
   "nav_menu": {},
   "number_sections": false,
   "sideBar": true,
   "skip_h1_title": true,
   "title_cell": "Table of Contents",
   "title_sidebar": "Contents",
   "toc_cell": true,
   "toc_position": {
    "height": "795px",
    "left": "90px",
    "top": "52px",
    "width": "384px"
   },
   "toc_section_display": true,
   "toc_window_display": true
  },
  "varInspector": {
   "cols": {
    "lenName": 16,
    "lenType": 16,
    "lenVar": 40
   },
   "kernels_config": {
    "python": {
     "delete_cmd_postfix": "",
     "delete_cmd_prefix": "del ",
     "library": "var_list.py",
     "varRefreshCmd": "print(var_dic_list())"
    },
    "r": {
     "delete_cmd_postfix": ") ",
     "delete_cmd_prefix": "rm(",
     "library": "var_list.r",
     "varRefreshCmd": "cat(var_dic_list()) "
    }
   },
   "types_to_exclude": [
    "module",
    "function",
    "builtin_function_or_method",
    "instance",
    "_Feature"
   ],
   "window_display": false
  }
 },
 "nbformat": 4,
 "nbformat_minor": 5
}
